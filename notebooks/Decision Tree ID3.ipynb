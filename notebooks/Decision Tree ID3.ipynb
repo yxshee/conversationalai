{
 "cells": [
  {
   "cell_type": "code",
   "execution_count": 8,
   "metadata": {},
   "outputs": [],
   "source": [
    "import numpy as np\n",
    "import pandas as pd"
   ]
  },
  {
   "cell_type": "code",
   "execution_count": 69,
   "metadata": {},
   "outputs": [],
   "source": [
    "df=pd.read_csv('C:/Machine Learning/ML_Datasets/weather.csv')"
   ]
  },
  {
   "cell_type": "code",
   "execution_count": 70,
   "metadata": {},
   "outputs": [],
   "source": [
    "def find_entropy(df):\n",
    "    label=df.keys()[-1]\n",
    "    label_values=df[label].unique()\n",
    "    entropy=0\n",
    "    for value in label_values:\n",
    "        prob=len(df[df[label]==value])/len(df)\n",
    "        entropy+=-(prob*np.log2(prob))\n",
    "    return entropy"
   ]
  },
  {
   "cell_type": "code",
   "execution_count": 71,
   "metadata": {},
   "outputs": [
    {
     "data": {
      "text/plain": [
       "0.9402859586706309"
      ]
     },
     "execution_count": 71,
     "metadata": {},
     "output_type": "execute_result"
    }
   ],
   "source": [
    "find_entropy(df)"
   ]
  },
  {
   "cell_type": "code",
   "execution_count": 72,
   "metadata": {},
   "outputs": [],
   "source": [
    "def find_average_info_entropy(df,attribute):\n",
    "    target=df.keys()[-1]\n",
    "    unique_target_values=df[target].unique()\n",
    "    unique_attribute_values=df[attribute].unique()\n",
    "    average_info_entropy=0\n",
    "    for value in unique_attribute_values:\n",
    "        entropy_subsample=0\n",
    "        for value1 in unique_target_values:\n",
    "            num=len(df[attribute][df[attribute]==value][df[target]==value1])\n",
    "            den=len(df[attribute][df[attribute]==value])\n",
    "            prob=num/den\n",
    "            entropy_subsample+=-(prob*np.log2(prob+1e-7))\n",
    "        weight=den/len(df)\n",
    "        average_info_entropy+=weight*entropy_subsample\n",
    "    return average_info_entropy"
   ]
  },
  {
   "cell_type": "code",
   "execution_count": 73,
   "metadata": {},
   "outputs": [
    {
     "data": {
      "text/plain": [
       "0.8921586397233878"
      ]
     },
     "execution_count": 73,
     "metadata": {},
     "output_type": "execute_result"
    }
   ],
   "source": [
    "find_average_info_entropy(df,'Windy')"
   ]
  },
  {
   "cell_type": "code",
   "execution_count": 74,
   "metadata": {},
   "outputs": [],
   "source": [
    "def find_winner(df):\n",
    "    attributes=df.keys()[:-1]\n",
    "    IG=[]\n",
    "    for attribute in attributes:\n",
    "        IG.append(find_entropy(df)-find_average_info_entropy(df,attribute))\n",
    "    print(IG)\n",
    "    return attributes[np.argmax(IG)]\n"
   ]
  },
  {
   "cell_type": "code",
   "execution_count": 75,
   "metadata": {},
   "outputs": [
    {
     "name": "stdout",
     "output_type": "stream",
     "text": [
      "[0.2467500670935654, 0.029222854197929582, 0.15183578990130542, 0.04812731894724309]\n"
     ]
    },
    {
     "data": {
      "text/plain": [
       "'Outlook'"
      ]
     },
     "execution_count": 75,
     "metadata": {},
     "output_type": "execute_result"
    }
   ],
   "source": [
    "find_winner(df)"
   ]
  },
  {
   "cell_type": "code",
   "execution_count": null,
   "metadata": {},
   "outputs": [],
   "source": []
  },
  {
   "cell_type": "code",
   "execution_count": 76,
   "metadata": {},
   "outputs": [],
   "source": [
    "def training(df,tree=None):\n",
    "    target=df.keys()[-1]\n",
    "    attribute=find_winner(df)\n",
    "    if tree is None:\n",
    "        tree={}\n",
    "        tree[attribute]={}\n",
    "    attr_values=df[attribute].unique()\n",
    "    for value in attr_values:\n",
    "        sub_df=df[df[attribute]==value].reset_index(drop=True)\n",
    "        target_values,counts=np.unique(sub_df[target],return_counts=True)\n",
    "        if (len(counts)==1):\n",
    "            tree[attribute][value]=target_values[0]\n",
    "        else:\n",
    "            tree[attribute][value]=training(sub_df)\n",
    "    return tree\n",
    "         "
   ]
  },
  {
   "cell_type": "code",
   "execution_count": 77,
   "metadata": {},
   "outputs": [
    {
     "name": "stdout",
     "output_type": "stream",
     "text": [
      "[0.2467500670935654, 0.029222854197929582, 0.15183578990130542, 0.04812731894724309]\n",
      "[2.8853897804381745e-07, 0.5709507964319583, 0.9709507387241655, 0.019973382560951936]\n",
      "[2.8853897804381745e-07, 0.019973382560951936, 0.019973382560951936, 0.9709507387241655]\n"
     ]
    }
   ],
   "source": [
    "tree=training(df)"
   ]
  },
  {
   "cell_type": "code",
   "execution_count": 78,
   "metadata": {},
   "outputs": [
    {
     "name": "stdout",
     "output_type": "stream",
     "text": [
      "{'Outlook': {'overcast': 1,\n",
      "             'rainy': {'Humidity': {'high': 0, 'normal': 1}},\n",
      "             'sunny': {'Windy': {0: 1, 1: 0}}}}\n"
     ]
    }
   ],
   "source": [
    "import pprint\n",
    "pprint.pprint(tree)"
   ]
  },
  {
   "cell_type": "code",
   "execution_count": null,
   "metadata": {},
   "outputs": [],
   "source": []
  },
  {
   "cell_type": "code",
   "execution_count": 90,
   "metadata": {},
   "outputs": [],
   "source": [
    "def prediction(instance,tree):\n",
    "    for attribute in tree.keys():\n",
    "        value=instance[attribute]\n",
    "        sub_tree=tree[attribute][value]\n",
    "        label=0\n",
    "        if type(sub_tree) is dict:\n",
    "            label=prediction(instance,sub_tree)\n",
    "        else:\n",
    "            label=sub_tree\n",
    "            break;\n",
    "    return label"
   ]
  },
  {
   "cell_type": "code",
   "execution_count": 91,
   "metadata": {},
   "outputs": [],
   "source": [
    "df1=pd.read_csv('C:/Machine Learning/ML_Datasets/weather_test.csv')\n",
    "Y_label=[]\n",
    "for i in range(len(df1)):\n",
    "    inst =df1.iloc[i,:]\n",
    "    label = prediction(inst,tree)\n",
    "    Y_label.append(label)"
   ]
  },
  {
   "cell_type": "code",
   "execution_count": 92,
   "metadata": {},
   "outputs": [
    {
     "data": {
      "text/plain": [
       "[0, 1]"
      ]
     },
     "execution_count": 92,
     "metadata": {},
     "output_type": "execute_result"
    }
   ],
   "source": [
    "Y_label"
   ]
  },
  {
   "cell_type": "code",
   "execution_count": 93,
   "metadata": {
    "scrolled": true
   },
   "outputs": [
    {
     "name": "stdout",
     "output_type": "stream",
     "text": [
      "              precision    recall  f1-score   support\n",
      "\n",
      "           0       1.00      1.00      1.00         1\n",
      "           1       1.00      1.00      1.00         1\n",
      "\n",
      "    accuracy                           1.00         2\n",
      "   macro avg       1.00      1.00      1.00         2\n",
      "weighted avg       1.00      1.00      1.00         2\n",
      "\n"
     ]
    }
   ],
   "source": [
    "from sklearn.metrics import classification_report\n",
    "print(classification_report(df1.iloc[:,-1],Y_label))"
   ]
  },
  {
   "cell_type": "code",
   "execution_count": 87,
   "metadata": {},
   "outputs": [
    {
     "data": {
      "text/plain": [
       "dict_keys(['Outlook'])"
      ]
     },
     "execution_count": 87,
     "metadata": {},
     "output_type": "execute_result"
    }
   ],
   "source": [
    "tree.keys()"
   ]
  },
  {
   "cell_type": "code",
   "execution_count": null,
   "metadata": {},
   "outputs": [],
   "source": []
  }
 ],
 "metadata": {
  "kernelspec": {
   "display_name": "Python 3",
   "language": "python",
   "name": "python3"
  },
  "language_info": {
   "codemirror_mode": {
    "name": "ipython",
    "version": 3
   },
   "file_extension": ".py",
   "mimetype": "text/x-python",
   "name": "python",
   "nbconvert_exporter": "python",
   "pygments_lexer": "ipython3",
   "version": "3.7.6"
  }
 },
 "nbformat": 4,
 "nbformat_minor": 4
}
