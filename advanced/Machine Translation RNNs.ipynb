{
  "nbformat": 4,
  "nbformat_minor": 0,
  "metadata": {
    "colab": {
      "provenance": [],
      "gpuType": "T4"
    },
    "kernelspec": {
      "name": "python3",
      "display_name": "Python 3"
    },
    "language_info": {
      "name": "python"
    },
    "accelerator": "GPU"
  },
  "cells": [
    {
      "cell_type": "code",
      "execution_count": 2,
      "metadata": {
        "id": "cNjh63Hw9KsU"
      },
      "outputs": [],
      "source": [
        "import os\n",
        "import tensorflow as tf\n",
        "from keras.preprocessing.text import Tokenizer\n",
        "from keras.preprocessing.sequence import pad_sequences\n",
        "from keras.losses import sparse_categorical_crossentropy\n",
        "from keras.optimizers import Adam\n",
        "from keras.models import Sequential\n",
        "from keras.layers import Embedding,GRU,TimeDistributed, Dense, Dropout,Bidirectional,SimpleRNN"
      ]
    },
    {
      "cell_type": "code",
      "source": [
        "english_data_path='/content/drive/MyDrive/small_vocab_en.txt'\n",
        "french_data_path='/content/drive/MyDrive/small_vocab_fr.txt'\n",
        "with open(english_data_path, \"r\") as f:\n",
        "  data=f.read()\n",
        "english_sentences=data.split('\\n')\n",
        "with open(french_data_path, \"r\") as f:\n",
        "  data=f.read()\n",
        "french_sentences=data.split('\\n')"
      ],
      "metadata": {
        "id": "zaU0V3EP98Ii"
      },
      "execution_count": 3,
      "outputs": []
    },
    {
      "cell_type": "code",
      "source": [
        "english_sentences[:5]"
      ],
      "metadata": {
        "colab": {
          "base_uri": "https://localhost:8080/"
        },
        "id": "z5nzyiF1-e81",
        "outputId": "b1a19177-0acd-4afd-aa2f-edd84fedc3b5"
      },
      "execution_count": 4,
      "outputs": [
        {
          "output_type": "execute_result",
          "data": {
            "text/plain": [
              "['new jersey is sometimes quiet during autumn , and it is snowy in april .',\n",
              " 'the united states is usually chilly during july , and it is usually freezing in november .',\n",
              " 'california is usually quiet during march , and it is usually hot in june .',\n",
              " 'the united states is sometimes mild during june , and it is cold in september .',\n",
              " 'your least liked fruit is the grape , but my least liked is the apple .']"
            ]
          },
          "metadata": {},
          "execution_count": 4
        }
      ]
    },
    {
      "cell_type": "code",
      "source": [
        "french_sentences[:5]"
      ],
      "metadata": {
        "colab": {
          "base_uri": "https://localhost:8080/"
        },
        "id": "XUUsPxfq-i72",
        "outputId": "750d4557-edb2-4bb8-b88e-1957f4dfb756"
      },
      "execution_count": 5,
      "outputs": [
        {
          "output_type": "execute_result",
          "data": {
            "text/plain": [
              "[\"new jersey est parfois calme pendant l' automne , et il est neigeux en avril .\",\n",
              " 'les états-unis est généralement froid en juillet , et il gèle habituellement en novembre .',\n",
              " 'california est généralement calme en mars , et il est généralement chaud en juin .',\n",
              " 'les états-unis est parfois légère en juin , et il fait froid en septembre .',\n",
              " 'votre moins aimé fruit est le raisin , mais mon moins aimé est la pomme .']"
            ]
          },
          "metadata": {},
          "execution_count": 5
        }
      ]
    },
    {
      "cell_type": "code",
      "source": [
        "def tokenize(x):\n",
        "  tokenizer=Tokenizer()\n",
        "  tokenizer.fit_on_texts(x)\n",
        "  return tokenizer.texts_to_sequences(x),tokenizer"
      ],
      "metadata": {
        "id": "06FvErcZ-nUw"
      },
      "execution_count": 6,
      "outputs": []
    },
    {
      "cell_type": "code",
      "source": [
        "english_sequences,english_tokenizer=tokenize(english_sentences)\n",
        "french_sequences,french_tokenizer=tokenize(french_sentences)"
      ],
      "metadata": {
        "id": "vXAjLiFO--TI"
      },
      "execution_count": 7,
      "outputs": []
    },
    {
      "cell_type": "code",
      "source": [
        "english_sequences[:5]"
      ],
      "metadata": {
        "colab": {
          "base_uri": "https://localhost:8080/"
        },
        "id": "yyuGkHQ5_IMo",
        "outputId": "21248293-7b7f-4b7a-e80c-b9a81459ec4c"
      },
      "execution_count": 8,
      "outputs": [
        {
          "output_type": "execute_result",
          "data": {
            "text/plain": [
              "[[17, 23, 1, 8, 67, 4, 39, 7, 3, 1, 55, 2, 44],\n",
              " [5, 20, 21, 1, 9, 62, 4, 43, 7, 3, 1, 9, 51, 2, 45],\n",
              " [22, 1, 9, 67, 4, 38, 7, 3, 1, 9, 68, 2, 34],\n",
              " [5, 20, 21, 1, 8, 64, 4, 34, 7, 3, 1, 57, 2, 42],\n",
              " [29, 12, 16, 13, 1, 5, 82, 6, 30, 12, 16, 1, 5, 83]]"
            ]
          },
          "metadata": {},
          "execution_count": 8
        }
      ]
    },
    {
      "cell_type": "code",
      "source": [
        "french_sequences[:5]"
      ],
      "metadata": {
        "colab": {
          "base_uri": "https://localhost:8080/"
        },
        "id": "nVlfS89X_MTS",
        "outputId": "588ae296-097f-476b-9887-7d8c4bd30f54"
      },
      "execution_count": 9,
      "outputs": [
        {
          "output_type": "execute_result",
          "data": {
            "text/plain": [
              "[[35, 34, 1, 8, 67, 37, 11, 24, 6, 3, 1, 112, 2, 50],\n",
              " [4, 32, 31, 1, 12, 19, 2, 49, 6, 3, 95, 69, 2, 51],\n",
              " [101, 1, 12, 67, 2, 45, 6, 3, 1, 12, 21, 2, 41],\n",
              " [4, 32, 31, 1, 8, 269, 2, 41, 6, 3, 103, 19, 2, 48],\n",
              " [40, 13, 14, 16, 1, 10, 82, 5, 39, 13, 14, 1, 7, 83]]"
            ]
          },
          "metadata": {},
          "execution_count": 9
        }
      ]
    },
    {
      "cell_type": "code",
      "source": [
        "def pad(x,length=None):\n",
        "  return pad_sequences(x,maxlen=length,padding='post')"
      ],
      "metadata": {
        "id": "ZsHvd1CX_QzQ"
      },
      "execution_count": 10,
      "outputs": []
    },
    {
      "cell_type": "code",
      "source": [
        "english_pad_sequences=pad(english_sequences)\n",
        "french_pad_sequences=pad(french_sequences)"
      ],
      "metadata": {
        "id": "29cUb54q_gNg"
      },
      "execution_count": 11,
      "outputs": []
    },
    {
      "cell_type": "code",
      "source": [
        "english_vocabulary=len(english_tokenizer.word_index)+1\n",
        "french_vocabulary=len(french_tokenizer.word_index)+1\n",
        "max_english_sequence_length=english_pad_sequences.shape[1]\n",
        "max_french_sequence_length=french_pad_sequences.shape[1]"
      ],
      "metadata": {
        "id": "jUluAA4-_rdo"
      },
      "execution_count": 12,
      "outputs": []
    },
    {
      "cell_type": "code",
      "source": [
        "french_pad_sequences=french_pad_sequences.reshape(*french_pad_sequences.shape,1)"
      ],
      "metadata": {
        "id": "TVnZRKWQ_vbf"
      },
      "execution_count": 13,
      "outputs": []
    },
    {
      "cell_type": "markdown",
      "source": [
        "\n",
        "**Simple RNN model**\n",
        "![Simple_RNN.png](data:image/png;base64,iVBORw0KGgoAAAANSUhEUgAAAugAAAGACAYAAAD/FZc6AAAAAXNSR0IArs4c6QAAAARnQU1BAACxjwv8YQUAAAAJcEhZcwAAFiUAABYlAUlSJPAAAEtySURBVHhe7d1LcBTnvfdxL7LIIossssgiiyyyyCKLLLLIIossssgiiyyySOolhKu4iIu4C4RASAKEkEBICHG/yNwsywYTbHzBwY6JE2JCDsfhmHM4LlPk+IQXF0Ud8qaocqh6Xv2a/uOmzzOjGWm61dP9/VT9C2k0mhk0/Xv6309f5jkHAAAAIDNo0AEAAIAMoUEHAAAAMoQGHQAAAMgQGnQAAAAgQ2jQAQAAgAyhQQcAAAAyhAYdAAAAyBAadAAAACBDMt2g//nPf3Z/+9vfwu/+twcPHrjf//737pNPPglvqY4e//XXXw+/c+7DDz8Mv/ri63/+85/B4+u5qnXp0qXgOR49ehR8/dFHHwW36/FGR0eDr4Fa0fL1wQcfuL///e/hLZXT72kZNVpuTfTrtCgzleZOY8Rf//rX8LvK6f9l/2eNIyrRcx89enRCf0fkj5aLcsuhfqb8aJ2h9UW19PjR7PnWQ3mhTCnXypiUyqD+jsrgRNa7QF5ktkHXgPelL30pCGmcQj5nzpzg588991xQ3/72t917770X3mN8Cv43vvENd/r06eB7/fuTn/wkGBi6urrc/Pnzg9s1mOjx29ragu+rod/74Q9/+PQxZsyYEdyu5/76179Ok46a0LKr5cmy8OUvf9mtX7++4mZBze1Xv/rVpxurytxPf/rT4Gst901NTcHXadJKu9LcKWPf/OY3w+8qp9/Tc4h+P/oY+v9bXlFcyoSWkWgDbbRh+LOf/eyZ9ZBypPVHpbRu+MpXvvL08Xt6ep4ud4sWLZrQeifLNLZE/57lMvjzn/88KKCoMtmga6vaGg5fg65BUT9rbm4OZhjOnz8fNOga6GyWejxq8L/73e+G3zn34x//+OlMoR7Lttwn06DrdWoA+uyzz4LHj67w+/r6gv8jMwSYDG3kafnUcqaVnmagtKGp2yptFLQS1O+b733ve09z9LWvfe3pbFealEW9Jl/+43S/iTTo+vtozJCVK1c+8xi3bt0KGq+LFy+Gt6BolCctH8pSvEHXxq/WH1pGtBxpedWyonG+muxpQ9A2huU73/nO073GWj9MZEY+y+INeiUZjO7lBookUw26BiM1rgqszUrEV9BqHHT7tGnTwlue0Iy7blfIx2PBP3v2bHjLk5W8ZtRFg8QPfvCD4OvJNOh6fGvK9f+KPoaaHjU/eZshQXqUF63EtUEZPRxDt2sZ1s/Go8ZCy3e0EY0u/8pJ1mexJtqg21400biiDZMobWBHN+JRDBqbNS5r2bf1ULxB16SQbo834pY9zaSPR4+px7DDOqTesleteIOuv7WNU9qTpw2UKK3nySCKKlMNug4rUXg1A6iBT1/HG3Q11/pZdFATNSi6fyW7pTV7ruY4Ojuhlbx+XzRI2gq/VIOugeXgwYPBa9bj7d69+5nZcP1cA4saIM2IaOCJHyerQwc0kOu+QLXUVGvZPH78eHjLF9RwxpsKHzWh3/rWt8Lvnogu/3p8ZUOUMeVRGdTMvbK2d+/epznScq4cKA/6mQ6ziedUh6HpMfQ7yo/up1358deqx9L9bK+W0XMri/q9zs7OYO9UqQZdfx9lTPfV7+h3o/Q69fpFM59quqLs78sMXrHYLLiaYy3P+jq+fGrZ1Iax7xhxLW/6Ha07ytHzxBvSUtmzPOhfHdKm51B+LHvx9ZGW6+hGuyh7dlilHkP3Venr6LrQKHvKmJ5LpcNv9PxRejw9ru6rx1Lm7T6Wcb0eZdyyH/176ncsg1rvxzOo++n+8duBIshUg67B0IJoQda/lVDIdX89RjkayDRDrwEnSoOKDahqpK2Z9jXouk0Dq25XE/79738/mO3QbFz0EJto4+1rwm3w8TVYwHhsI1bLo5YvZUd5qfTEMjW3Wm7jx5jHl39b4VoW7BAalR0Co71FypWOf1ceNBtts4/ae2SseVFzoo1T/auGRLdFX4dlI5o7PYceX6VZRs28qbSBEW3Q1RioudLvK5NqcmyvXHQ8GS+fehz9XnxvHfJNy5w1kPGGshJaN2gZ9TW9RvnS46qhjSqVPcuDml39q9Kyr+fQOkcZ0G3KXan1kbKn2+y4eWVGy7d+TzmM0p5oew7lRxsj+l73195qo8fQ72oc0M9Veq2arNK6Ud/r72FfK7d2H6kkgxon9JqBosnkMehSSYOuQUCDqTUMWimXGxTFTvrRln0lrCmJNgoaADUARw8LUFNkzcJ4r8FoQNJAmbfdmEiHNbuamdKyp6+ttEz5VnhRdvx69FCvciwLKm0Q63utaPU8en6trKMzbGo0dLvK2GtWTqIzbWqCo6/FGhLLnbKuFbWewxqY6O9FG3T9jm6Lniir3//Rj34U5K2aK2PYhgSKqdoGXesV3V8zw+XY41Y6M2x5sI1M7Q1S7kVNuRrn6GvUMq6mWY21ZcCyp/WXZU+z7MqFbre9XXpcfa9sRddlyqZu10aCUe50mx5br8nWifr/6/bo+ls/0+vX7ZX+PUXH6Ov/BxRNXTfo2q2mAUINgIKvrexog+Bjs47RWYBy4g26DV46QTXOdodWsztOA6gKqJatcLXy0oyXZsu0YramdbwmQcuw7hedZSvHsqAVepSaXzXDvkbfZrKNveb4YSN6DG302kxevEG38SC+t0kbB/r/Rxt0NSbxQwdEDYQeQ7vbK6VZff2O/u8oHlvuKmkodR+thzSea3kuR8ugHtc2NsdjedBkVJQdhhWfiRdb11nTbNmzxt7oEBfdbutaNeoaT3zLvO5nh92Icqf/c/RwGstk9H7G/t/VNOg2TlWzYQ3kQV036FEaZDRQaMUc3eqPs12Ela5w4w26dtfrew00em3RsoFEx+1VSoOYXjdQLVvhRme0jO3mLtco2O/Hj1UtxbLg2zg12kBWA6CZRDW3NrNv7Dl9s/uaCVRzLfEG3WbkfLm1w2REGxu6n3alx/Op0kaA/jaVUpb1eNU0FMgPLTOVvP+2/tFyWMkGr2aF9biViufBWBOuhjq+rNv6SPcRy54ObYuyx9bvxOn/oo1prfdsYzveoMc3hjVxpvv5NhpsFr6aPJU6DwDIu9w06GIr8XJBtkFqog26/tX35So+iJajwU6/A1TLlmXfSYy24q4kC5WKZyFKr8GOU1VZI2y3GT1nqQ3SaBasabDnKvda9TNr0O33ypXdtxI2DtEcFFMl77+tE9SojrcH11Q77sfzYOy5y9V4GbLHjq5rNX5EjyvXYV62URFv0KPfS6nXKvazcn/POHsPOFcLRVP5CJEyC2V00BANgGoGfDODdvxf/HeiJjuDbo2PrymaCA1uzKBjIsoti5XMOtkKu9oZ9PiKV7uetQzruHKtRDXrZnuxSh3i4qMZdDtePb6St43v+JVYRI2DNd02e1fJ5VYrwQx6sdl6yPf+axm35Vl7cSrNkdh5U5WK58FUs3xW2qDb2GFXVYludOj28Rp0y6BvT5vGKv2smjwxg46iqrsG3Q4x8W1NW/Nd7vhya2omegy6HfNXavDRIBi/tFw5HIOOiSp3PoQ1xuVm9GwXeLXHoJdqEnzHoGtWUT8z1iTEj4O1K8rY1RriDYltfMdzryZJV6awBt2Of/Udg66Nej2+XdatEnYMum/DAPlXrkG3jUatd8odVukz0WPQ49lTA63bfYeT2PrI1nWVNuhquPV9/DA0vVbdPl6Dbhn0HUpmY041zbb9Dsego2jqrkFXw6HwR68CIXaGuGbhyrEt+IlexUUDsRrq+FVc9Fr0mnS7fqcSGsj0mtVMARNhV3CINrxa+UWb3VLsKi52beTxlGrQbaNZ10mOssZdZXu8rEnQyttuU6Zs97mtuOMNie6rXe5qxqP5UmOi+1mDLnaJuGjTouewjZb4mFKOTojlKi7FVapBt8ZY5zpoefRVuabdHrfaq7jEs6fn0HpHY0D0NaqZVia0PrL1ZKUNuvYG6PtoQ6y9A3b7eA26WAajl1jV4ylLuj3+9yxHM/n6/5X7ewJ5VHcNuqih0MCj0GpwUJOi+6px1sBYjm3da7CqhB5Pjx0dGDXjqEZBt+u59Rr0mGqKKm12xAZGjq3DRGlZ1EpSy56aXpVlodzsuajp1e9VelUTXxZEs992MqhW4sqWmgZlxBpvW9lbk6DXp4Zb2bEsRRtqX0OijRDlTNnX7+kx9L3+z9EGXc2EXTpOryP6HNVc01wNgR6/mt9BvpRq0G35Klfl1kU2G+3b++Xjy4PRGGD5s/WRMhJfH1XaoNtkl5ppbdRqQ9+yquuZK0umVIOuDNo1z7U3S1/rMXVf3Rb/e5aiDNrx70DRZLZB13FsGoz0r492OWuFrkFHpRnx+C65UrRLUgNOJVvkamL0OuIDim7XsXH2/Hot1e4G1+5zDT7VHLsIxGlZ1EyVLYv6utJlSivf6Aq3nFJZEDXp+pm9BvskQ2VCt9thX/qZVtBqKnS4mb7XBkL8sDA1N77n0u2We7sUnA6tic7UGc1O6rHtOSqdrTS2t03/ophsPRRvtrW86fZypbyUo41ZbUBWolQeTHx9pPvG10fKiW6Ps8eOrmv1tdZP8ewoC7qvbfzr7+CbRBOtXzX5pMfQOlfPb88V/3uWYoeUVptdIA8y26AnSYOPQl/NbHetaWNCGwm1OpkNmAg7jj16uFaStLLW81W6gp5K2njRjCGQBDXbykI15ywVjfZeVboRA+RNIRt0UfC1222qaMZfs+fjzbIASdMxnvEPQElKvTTomn3ULnlm7pAkHfLB4Rt+mqWPH6YDFElhG3QdA6gGeSpWwJo912EFlZ6oCiRJzbKOtS61+7yW6qVB1+sc7yRbYLJ0qJeOF6/0qmJFogymNXEAZFFhG3RRQ1Lq+Lkk6RAb3zGzwFTRsaX6NMSkqSFR7io9X2Qq6LXpONn4Jy4CSdAkke8SpUWmDOoqUOOd6A7kWaEbdAAAACBraNABAACADKFBBwAAADKEBh0AAADIEBr0MZ9//nn4FYAkkTUAAMZX+AZdDcORI0fC7wAkhawB6Xn//ffDrwDUo8I36FevXnUzZ87M9GXfgDwga0A67t27R9aAOlf4Bn1wcND94he/SO2jzoGiImtAOkZGRoKspfHhYwCSUegGXbvcNcuggay1tTW8FUCtkTUgHY8fP3aNjY1kDahzhW7Qtctdg5jVnTt3wp8AqCWyBqTj2rVrZA3IgUI36LbL3Wp4eDj8CYBaImtAOvr6+sgakAOFbdCju9ytGhoagtsB1A5ZA9Lx4MEDN23aNLIG5EBhG/T4LncrLk0F1BZZA9Jx/vx5b9auXLkS3gNAvShsgx7f5W7V1dUV3gNALZA1IB0rVqwga0BOFLJB9+1yj5auIQtg8sgakI6bN296M2Z1//798J4A6kEhG/RSu9ytRkdHw3sCmAyyBqRjaGjImzErsgbUl0I26KV2uVvpGrK6liyAySFrQPL0iaHTp0/3ZsxKWQNQPwrXoI+3y93q+vXr4W8AmAiyBqRDn87ry1a8yBpQPwrXoI+3y91K15IFMHFkDUhHS0uLN1vxImtA/Shcgz7eLncrXUv24cOH4W8BqBZZA5KnTwr15cpXOgyGrAH1oVANeqW73K10TVkA1SNrQDqOHDnizVSpImtAfShUg17pLncrXVMWQPXIGpA8bQjrk0J9mSpVq1evDn8bQJYVqkGvdJd7tG7duhX+NoBKkTUgefo0Xl+WxiuyBmRfYRr0ane5W+nasgAqR9aAdGzevNmbpfFq//794SMAyKrCNOjV7nK3UqOha8wCqAxZA5KnT+H15aiSImtA9hWmQZ/ILncrXWMWQGXIGpC8kZERb4YqrUuXLoWPBCCLCtGgT3SXu1Vra2v4SADKIWtA8vTpu/pkUF+GKi2yBmRbIRr0ie5yj5auNQugPLIGJO/atWve7FRbZA3IrkI06JPZ5W41PDwcPhqAUsgakLze3l5vdqotsgZkV+4b9MnucrfStWb1WAD8yBqQvAcPHgSfvuvLTrVF1oDsyn2Dfv/+fTc6Ouqt9vb2ZwYrfe+7n5XOmgfgR9aA5OmwFF9mrKrNmnILIHsKcYhLKRqcogOZvgdQe2QNSAdZA/KBBp2BDEgcWQPSQdaAfKBBZyADEkfWgHSQNSAfaNAZyIDEkTUgHWQNyAcadAYyIHFkDUgHWQPygQadgQxIHFkD0kHWgHygQWcgAxJH1oB0kDUgH2jQGciAxJE1IB1kDcgHGnQGMiBxZA1IB1kD8oEGnYEMSBxZA9JB1oB8oEFnIAMSR9aAdJA1IB9o0BnIgMSRNSAdZA3IBxp0BjIgcWQNSAdZA/KBBp2BDEgcWQPSQdaAfKBBZyADEkfWgHSQNSAfaNAZyIDEkTUgHWQNyAcadAYyIHFkDUgHWQPygQadgQxIHFkD0kHWgHygQWcgAxJH1oB0kDUgH2jQGciAxJE1IB1kDcgHGnQGMiBxZA1IB1kD8oEGnYEMSBxZA9JB1oB8oEFnIAMSR9aAdJA1IB9o0BnIgMSRNSAdZA3IBxp0BjIgcWQNSAdZA/KBBp2BDEgcWQPSQdaAfKBBZyADEkfWgHSQNSAfaNAZyIDEkTUgHWQNyAcadAYyIHFkDUgHWQPygQadgQxIHFkD0kHWgHygQWcgAxJH1oB0kDUgH2jQGciAxJE1IB1kDcgHGnQGMiBxZA1IB1kD8oEGnYEMSBxZA9JB1oB8oEFnIAMSR9aAdJA1IB9o0BnIgMSRNSAdZA3IBxp0BjIgcWQNSAdZA/KBBp2BDEgcWQPSQdaAfKBBZyADEkfWgHSQNSAfaNAZyIDEkTUgHWQNyAcadAYyIHFkDUgHWQPygQadgQxIHFkD0kHWgHygQWcgAxJH1oB0kDUgH2jQGciAxJE1IB1kDcgHGnQGMiBxZA1IB1kD8oEGnYEMSBxZA9JB1oB8oEFnIAMSR9aAdJA1IB9o0BnIgMSRNSAdZA3IBxp0BjIgcWQNSAdZA/KBBp2BDEgcWQPSQdaAfKBBZyADEkfWgHSQNSAfaNAZyIDEkTUgHWQNyAcadAYyIHFkDUgHWQPygQadgQxIHFkD0kHWgHygQWcgAxJH1oB0kDUgH2jQGciAxJE1IB1kDcgHGnQGMiBxZA1IB1kD8oEGnYEMSBxZA9JB1oB8oEFnIAMSR9aAdJA1IB9o0BnIgMSRNSAdZA3IBxp0BjIgcWQNSAdZA/KBBp2BDEgcWQPSQdaAfKBBZyADEkfWgHSQNSAfaNAZyIDEkTUgHWQNyAcadAYyIHFkDUgHWQPygQadgQxIHFkD0kHWgHygQWcgAxJH1oB0kDUgH2jQGciAxJE1IB1kDcgHGnQGMiBxZA1IB1kD8oEGnYEMSBxZA9JB1oB8oEFnIAMSR9aAdJA1IB9o0BnIgMSRNSAdZA3IBxp0BjIgcWQNSAdZA/KBBp2BDEgcWQPSQdaAfMh9g/748WN37949d/PmTXflyhV34cIFd+rUKTc0NOSam5tdQ0ODmz17dlALFy50HR0dQfX397vh4WF38eJF9+GHH7oHDx6EjwjAh6wB6SBrQP7lrkG/deuWGxkZcatXrw4GqWnTprnGRUtcc8tG1751h+vZfcQNHHrZ7Tl+0R14+Zo7eP5jt//V20/q/Cdu16k/uX0vXXO7nr/kevadcZt797tVaze62XMa3IwZM9369a3BQHjjxg33+eefh88KFE80a3PjWduyw20fOOJ2HXySNWXqwK//85ms9Z/+Imu9+8+4rTv2u9VjWZtD1oBnPJO1uc9mbdNY1rr7n2Rt9/NvBZnae+7ZrO0eufY0azsPnP0ia2OPNWPmTNfaStaArKn7Bl0zCZoJOHTokGtsbHTLV6xyu/adckfO/5s7/OZdd/y3/69mdfTiZ0EDv2XglFu2qiVoIjZt6gh2Id69ezd8RUA+xbO2bCxrO/eecvvP3kgka2rgu3afcstXrw+y1t5O1lAM0awtXNjompavcj17Trm9Z5LJmhr47XtOuxVkDciMumzQHz16FOzWGxwcDHbhrW3ZGMyKH7nwiXcASqqOvn3f7TxxxbX1HHYN8xeOvY7WYFfjw4cPw1cK1Ldo1maNZa153UbXd+Bld/DV9LPWd/KK6+g97OaNZa2FrCFnnsnarNnBDHfvvpfdgfPpZ61/LGubdyhrjcGeLLIGpK+uGnQdb9fb2xsMXus2dLo9z7/pDr3xqXeQSbuG3/mfsQbiA7euo9/NmDnbbd7SFcyAAPUomrW1rZ1u4Ngb7tDr2cra+s5+N3Msa1u2kjXUr2jWmtd3uJ1HspW1/tMfuI1bxrI29vq2kjUgNXXRoGs3mwYwHXM3ONaUawvfN5hkpYYvPXBb97/uGpeucitXN7urV68GuyyBrLOsLWxcHDQK9ZC1bQded4ubVrnVZA11RFnr6el1C8ay1nuoPrLWM/Y6lyxb5dasIWtA0jLdoOsMcx2Dp5Ni+g+dDQYI38CR5eodvuyaVm1wixY3uXfffZcBDZlkWdNJY9v3nanLrO14/rJbvnqDW7KErCG7LGu68EDXUH1mbedY1lY2b3RLlpI1ICmZbNB1FrlOUJk/f4HbvnvYHXv7M+8gUU+lk0ubVm9yK1etCXZpAllgWZs3lrUtfceCE8Z8y289lbK2onlTMKNO1pAVlrWGeQtcx458ZE0ncq9atymYUSdrQG1lqkHXVri2xtWYd2wbSP1EtDSq+/AlN2feQrerf9Ddv38//J8D6YpmTceX6lJsvuW1nmv7WNYaxrI2sJusYepY1rQR3NKZz6ztOHopOHlbJ7iSNaA2MtOg6zqvq1atds0t7W7fKze9g0BeSrs0N/aeCHZxnvv1+fAvAKRDWVs5lrVVaze5oTMfeZfRvJSy1r7zSdbOnydrSJeytmLl6mCPzp6X85+1Lf0ng8PkyBoweZlo0C9fvhwcZz546nfe4Oe1NJOydOUG17l5K5/ohlQoa1qB9h0vXtaWrd4QXPGFrCENypo2DHVuhG+ZzGspazo+vauLrAGTMeUNuj4drXHx0uATPX1hz3vpMlZtO04E15u9fv16+FcBak9ZW7hoafApg75lMe+lrHX0nXDzF5A1JOv0CyNu/sJiZ02z6fqQJbIGTMyUNej6UAZdzm1Ny6aafzJaPZZObJvTsNANP3+CM+JRU8qaLuem3exk7cmJbTo2/cQJsobaUta6u3uDCwKQtf8XfEKpJp+Gh4fJGlClKWnQdRKJzvretG0o2NL2BbuIpbP6m9Z0BAO8BnpgspQ1Xc1k/ZY9ZC1SytqKtR3BhgtZQy0oaytWrXFrO8latJS1Nes7ggk5sgZULvUGXSfNLFjY6LbvP+cNc9FLA3tz+4Bb39rG8XuYFGVNh3NsHXrFu6wVvZS1ls7dbsNGsobJUdZ0FZPOQbLmK2WtrWu329hG1oBKpdqg2wlq/af+6A0x9UXpuPSlTSuCT5sDqmUnqPWdvOJdvqgvSselL1tG1jAxv33vsps1e67beYKsjVddAyfd8uVkDahEag36xYsXC32C2kRqy95XgxnQTz/9NPwrAuNT1op8gtpEqvvAa24BWUOV3nzzLdewgKxVUzsOXwhOHiVrQHmpNOg3btwIPj0tjx/QkHRtO/Dm2IbNEnYLoiLK2pyG+WRtArXj8Ftu0WKyhsr85S833Oy5ZG0i1Xf0Dbe0qYmsAWUk3qDfu3cv+AQ1nc3tCyo1fm3Z84prWrbCPXz4MPyrAv+bsqYNYV0RyLccUePXtr2vuGXLyRrKU9a0IUzWJl69+14OPpyQE0cBv0QbdAVPn1i4/cBr3oBSlVfr9qPBiaMMZvDRcrF85argsCjf8kNVXu07jgUnjpI1+Gi5aFpO1mpRm3cedm1tZA3wSbRB1yXMWrfs8QaTqr7Wde5x3dt7w78u8IVt3T3B5d18yw1VfbVt2xeMX0Dc5q4et6adrNWqNmzuc0NDQ+FfF4BJrEF/8cXR4INRdHklXyip6kt/y8XL1rrXXrsQ/pUB514YeTH4YBSyVrvS37Jp5Tp34QJZwxdOnHrRLV7ZRtZqWEffvh/skdCVpwB8IZEG/cqVK27+wsXu0OufegNJTbz2v3rbzZrd4D7++OPwr40i+8MfrriG+WQtiVLW5swha3jivd/9wc2ZR9aSqH1nP3Jz5zYEx/YDeKLmDfrt27eDE9X2vPyRN4jU5Kt3+HJwZZd//OMf4V8dRaSs6UQ1spZc9R3/XXBlF7JWbJ98ctvNmkvWkqyeA+fdunUt7vHjx+FfHSi2mjbon3/+ebAy6zn2W28AqdpV67bDrqe3L/zLo2iUtYWNi13PUbKWdG3qOex27iRrRaWszVtI1tKo5g1dbnR0NPzLA8VW0wb9/Pnzrnljtzd4VG1r+NKDsZXGUnf9+vXwr48iOXfu127FerKWRilr+pA1slZMo2d+7ZatI2tplA4f0qeNc6gLUMMGXbuAFSw+tCG96jv5gVu0uCmY4UFxKGuz5pC1NKv/9AduyVKyVjTK2szZc8lairVl94jbtas/fAeA4qpZg37q1Cm3nksqpl6r23a6kRfZJVgkzx8/5dZ0kLW0a33HTna/F8zBoyfdai6pmGppj5UuMnHz5s3wXQCKqSYNuj6ud+bM2ZzdPgV18MJfg9nUu3fvhu8G8kxZm0HWpqSUNe0lJGvFoKxNnzGLrE1B9Ry55JrXtoTvBFBMNWnQBweHXEffKW/QqOSrY2DU9Q8Mhu8G8mzXwB63ccdJ73JAJV9de14aG+/IWhF07xh0G3rJ2lTVkuVr3dWrV8N3AyieSTfod+7ccXMb5rujFz/zhoxKvvS317XRmdnLN2Vt9lyyNpWlv/1s9ljl3u3bd9zMOWRtKktXzVnf2ha+I0DxTLpB10fPb97zijdgVHrVtuOk2z3IxyXnmT5ivHOQrE11bRk4xUeT51xb53ayNsWlT2udt2Bx8HkPQBFNqkG/ceOGm9+4NDipwxcwKr3STM/chgXBcZPIn7/85YZrWEDWslDKmj6Mjazl079c/4ubM38sa3yc/5RXx8DLrq9/d/jOAMUyqQa9vaPTbTv0tjdYVPqlDy86cnQ4fHeQJ60byVqWSh9eNDxM1vKoeX0HWctIaWNYJ8WzMYwimnCDfv/+/eBYTGYZslO6yoSupsO1mvNFWdO1mMladiq4etIsspY3ytqMWWQtS9Xcsce9+upr4TsEFMeEG/SLFy+6ls5+b6CoqavlzR3uypUr4buEPHjzrYtuddsu7/tNTV2tWU/W8ubcq2+5lRvJWpZKH8jX3LIxfIeA4phwg97esdn1Dl/2Boqauuo68Kbr7u4N3yXkwYa2TrKWweo5/Jbr7SVrebK2laxlrbQ341czZgV7N4AimVCD/ujRo+C4sKNv3/cGipq60nvyqxkz3cOHD8N3C/VMWfsVWctk6T2ZQdZyQ1nTBxORteyV9mq88msOc0GxTKhBv3z5slvd2uUNEjX1tba9373xxhvhu4V69t57l92ytVu97zM19dW2lazlxcXfvOeWNpO1LJb2aqzb0Bm+U0AxTKhB16dWdu1/3RskaupLH/CweUtX+G6hnvXs3O22krXMVt/zv3VdXWQtD7ZsHyBrGS1dXnbaL6dzUjYKpeoG/fHjx8EhFIffvOsNEjX1pUtT6T3Se4X6FWTtV2QtyxVcBo6s1T29f9PJWqZrwdK17t/+7Wb4jgH5V3WD/uGHH7plqzd4A0RlpxYvW+Nu3boVvmuoR8ra4hVkLevVtIKs1bur1/7VNS5v9b6/VDZq3dZD7tToufAdA/Kv6gb9wMFDrnP3y94AUdmpDd2H3blzDGb1bHDvQdc+QNayXlt2krV6t3PggNu0a9T7/lLZqO7Dl9zGzu3hOwbkX9UN+vwFjW7/+U+8AaKyUztPXHEb29rDdw31qGH+QrJWB9V/6o+uo6MjfNdQj+Y0kLWslz4cbPbc+eE7BuRfVQ26TtD45S+ne8NDZat0bOzMWbPDdw61cu/evVROVNJz6KQo33tLZauUNX2qKGor1axNI2v1UL+aNZfLmiYgrayhOlU16Hfv3nULFy31BofKXs2e0+AePHgQvnuohdHRUdfQ0OCGh4fdnTt3wltrT1mbt5Cs1UvNmUvWai3NrM2dT9bqoebrRNGP/iN851AraWUN1amqQb9x44ZbtW6TNzhU9qppVUvwnqF2NJD94he/eFqtra3u4sWLwYec1JLet2VryFq91Mo168lajaWZtUUr27zvK5WtWtG6w73x9u/Cdw61klbWUJ2qGnR9QNGGzf3e4FDZqw1b9wQhQ+3EBzKrmTNnuqGhoZpdzUNZW7Npl/d9pbJXW3r2krUaSytrv7n0XvBJlb73lcpWre8edoeefyl851AraWUN1amqQT9//rzr2HHMGxwqe7V58Iw7ceJE+O6hFkoNZNFasWJFkJXJHCup31+/7aj3faWyVzsPnCVrNVZJ1lavXj3prI289GuyVie1Ze+rbkvv3vCdQ62klTVUp6oGXSugrXvOeINDZa/0iaJ9fX3hu4daqGQgs5o2bVrw979+/XrVH2Rz9NgJLrFYR7Xn1Htkrcaqydr06dOfZq1aew8eJ2t1Un0nP3CrW7hiUq2llTVUp6oGfXBw0G079LY3OFT2atepP7lN7QxmtVTNQBatxsbG4Hd1tnwldvTtJmt1VPteusalFmtsslm7f/9++EjldfWQtXoprdNWrt0UvnOolbSyhupU1aC3beoIAuILDpW90nul9wy1M9GBLFpdXV3u/fffL3tZq/Ub2slaHdVeGvSaq1XWrly5UjZrzS1krV5qcPQvbvHyteE7h1pJK2uoTlUN+uIlTXyYQx2V3qv5CxYG4aNqU+3t7d7BaSJV7rJWjYuWkrU6Kr1XCxeStVpWrbOmQzR9WZvfSNbqpfa/etvNmjPfu7xQE6+0sobqVNWgz5gx0x19+743OFT2KhjMZs32hojKVsUva/UrslZXpazNnk3W6qHiWZv+K7JWL6WcTZ9Bzuql0rpc4w9/+EP33HPPPa1Lly6FPymtra3tmd/R9+P55JNPnvmdb37zm+FPStN9or+jx6hUVQ26/uC+0FDZLH008syZs/5XaKjsli5rdeTIkeBr33tKZbOUtVmzyFo9FVmrv1LOtEEVfy+pbJdlLanDX2jQx/xy+nQ3fOmBNzhU9mrvuf90c+c2eANDZas0gOkk7KtXrwaD2C9/SdbqqY5d+DjYtet7b6lsVTxr08ha3ZTWaTNnzfW+r1T2Kp61pNCgj1m8eEmwi8kXHCp7pUtSrVu3znvMGTWxquWxeuUGr4WNi8laHdXhM1fJWo0rrazNX0jW6qV0Mu+SZWu8yws18Uora0mhQR/T3s5VXOqpdh59K/gUMNSOBjPfoFRpVTp4bdjIlSXqqfafukjWaiytrK1dT9bqpboOvOm29AyG7xxqJa2soTpVNej9/f1u57FL3uBQ2avuPSNuZGQkfPdQCxMZyCYyeO3Y2e+6D5O1eqmBgy+StRpLK2td23eRtTqpTbtG3dBBPrG31tLKGqpTVYOuS8L1HjjnDQ6Vvers2R+cQY3aqXQgm+zgpax1Dr7ifV+p7NX2XQfIWo2llbV9B4+RtTqpdVsPuRdeejV851AraWUN1amqQT937pzb2v+8NzhU9qq1fXsQJNROuYGsloOXsraxd9j7vlLZq/YtPWStxtLK2stnf+3WbzvqfV+pbNXy9T3uN7/9Q/jOoVbSyhqqU1WDfvnyZde2td8bHCp7tXzVOvfxxx+H7x5qIT6QJTV4KWvrOshavdTqZrJWa2lmbeXGXd73lcpWNS5vddc//Ch851AraWUN1amqQb9x40bwsci+4FDZq3nzG939+/fDdw+1oIEsjcFLWVvRvMn7vlLZqwULyVqtpZm1JavavO8rla2a3bDY3bt3L3znUCtpZQ3VqapBv3v3bvAR5L7gUNkrbQmjttSEpTF4KWv6CHLf+0plr8ha7aWZtYYFZK0e6v/8n2nu8ePH4TuHWkkra6hOVQ26Pq5VH/fvCw6VrdJ1fRctXhK+c6g3ypo+7t/33lLZqkOv3XZLlpC1eqWs6dMpfe8tlZ06/Obd4EOKgKKoqkGXuQ0N7sDYCskXICo7NXj6966joyN811CP5sxt4ANU6qCOvPwHslbnZs8ha1kvXat+2ap14TsG5F/VDfr+/fvdrsNcajHr1bl9yF24cCF811CPlLWuIS7/lvXq2bWXrNW5PUP7udRixkuXWDz5wsvhOwbkX9UN+rVr19y6Vk4UzXINv/M/wewrJ63VN2Vt1TpOFM1yKWvaq0jW6puy1rSarGW55sxb7O7cuRO+Y0D+Vd2g60SCWbNnB8eD+UJETX0NnL7q2trawncM9UpZmzmLrGW5jpz9E1nLAWVtxkyyltXa8/JHbkHj0vDdAoqh6gZd9JH/u4ff9AaJmvrq4PCW3Ni1q991H3zD+z5TU1/dOzm8JS96duxyXQdYr2WxNvSedAePngzfKaAYJtSg64MdNnZu9waJmtqyw1u4Vmw+BB9Y1EbWsljB4S1kLTeUtVWt3d73mpramr94tfvoo5vhOwUUw4Qa9OByizNnuqNv3/eGiZq6GnzxX9yaNc3hO4V6Z5dbJGvZq8Nnr7nmZrKWF0HWfkXWslb7z3/i5jTMD98loDgm1KDL5s2b3d4X3vcGipq62tp32J05cyZ8l5AHnZ2b3c7nL3vfb2rqaufgUbKWMxs3dbreYbKWpdLVdXYO7AvfIaA4JtygX7p0yXV2D3gDRU1d6eP99cl4yA9lbcPmfu/7TU1d6eP9yVq+KGvN7bu87zc1NbVo+QZ3/V8/DN8hoDgm3KDrsmI6/lLHYfpCRaVfAyMc3pJHytrMmbPJWobq0CvXObwlh5S1WbPnkrWMlK6q86uxsY+PoUcRTbhBFx3msu/kRW+wqPSrbUufO3/+fPjuIE90mEvf0be87zuVfm3p3kXWcqq9Y7PrPsjVXLJQG3ecdAN7OLwFxTSpBv3WrVvBbt7n33ngDReVXg2N/otbvHgJMw05pazNX9Dohi+RtamuI+euuyVLyFpeKWsN8xaStSmuQ69/GuzN4CpJKKpJNeiia6IPHHzRGzAqvVqxap17//33w3cFeaSsde8Z8b7/VHq1upms5V3frn7X2U/WprLWdOxxzx8/Fb4jQPFMukHXSVL6qOvjb/9fb8io5EuHPmzk0wxzT1nTNe75tMOpKx3SxyeH5t+T9doCsjZFtffcfwZ//3/84x/hOwIUz6QbdBkeHnY9A4e8QaOSLV2zt2HegmC3LPJPWdu846B3WaCSrWO/ue/mzydrRaGsbdh2wLssUMnW8nVb3auvvha+E0Ax1aRB11ZuQ0ODG37zE2/YqOSqa/cpNzg4GL4TyDtlTVdPOnCerKVdu/afJmsFoqzNmdMQfFCOb3mgkqldp/7kGhcvdY8fPw7fCaCYatKgi65o0L6lxxs4Kpk6eOGvbtas2cGlwVAcylprOx//n2Yde/O/3KzZZK1olLW1m3q9ywSVTC1attb94Q9XwncAKK6aNei6ooGubKArHPhCR9W+Nm7pd6Ojo+E7gKJQ1nTFHl25x7dcULWvzdsHyFoBKWuNi5a4/hfIWhq17dDbrnnt+vCvDxRbzRp0uXz5smtet94bPKq2NTj6r27hwkYu9VZQytrKNWQtjTr4yoeusZGsFZWytnzNBu+yQdWudFnLeQuXups3b4Z/eaDYatqgi65wsPfIqDeAVG1K14fVMXpc6q3YlLWd+7jEaZJ19M3/douXNJG1gtu4sc1tHeSyi0lWy+Y9rn+AczwAU/MG/cGDB8Fs0+HRd70hpCZXmmVYtXajGxkZCf/iKCrL2uCJd7zLCjW5UtbWtpA1PMma9lj2DV/yLivU5Kpz4CW3anWze/ToUfgXB1DzBl3u3LnjFixY4I5f+DdvGKmJ1/r2HVxJAk8pa7r038FXbniXF2ri1b6FrOELytq8sawNvvQX7/JCTax2HH8/+JRkbQQB+EIiDbpcu3YtmHE4+Zv/9oaSqr429z0f7Grl8lOIUtYWjGVNh2P4lhuq+uoZPB4cQkTWEKWszRtrJnWYoW+5oaqrobP/Hnwg0ccffxz+hQGYxBp0OXfunGte2+KOv3PfG06q8uo9/IZbvnyFe/jwYfjXBb6grK1asy744Crf8kNVXruH33QrVpA1+Clry1aRtcmWNnLmLVjM+R1ACYk26DI0NOQ2b+1xJ97zh5QavwZOXw1mSPXx00ApytrGTq6PPpna99LVYM8fWUM5ytq6NrI20dL5HUtWtLgXX+TSpUApiTfo2kXc0dHhhg6d9gaVKl97z/67mzO3gUtPYVyWtR1Dp7zLElW+9p/7j+BTWskaxqOstbd3uK39J73LElW+1nb0u4HdnN8BlJN4gy7aVdzU1OSOjb7tDSvlL31S6Lz5C9kFiIpZ1vYcv+hdpih/HX3jv4IT1cgaKqWsLV3a5HYefcu7TFH+6ug75da1tPK5AsA4UmnQ5dNPPw0+aXTfkRc43KWC2j1yLWgY3njjjfAvCFTGsta3j71WldTel56cZEvWUC1lTZ/q2z1I1sar4Xf+x23YusetXtPMFVuACqTWoItCqV3wHZu3uVO/5QSbUrV9/7ngcl4ffvhh+JcDqmNZa+vY5o79hqyVql2HzgWXqSRrmCjLWktbFyeOliidENq0qsX19fVxrXOgQqk26KJj944cOeKWLV/hTr992xvmopYG99bN/W7duhZ379698C8GTIxlrWnZCjf8xifeZa6opay1dw24lhayhsmzrC1ZutwdfJWsRUvXjdehmmfOnAn/WgAqkXqDbi5duuQaGhrcyfNXvaEuWu1/9bZbunxNcHUAjs1DLSlrOvnx0MsfeJe9otWB1267ZSvIGmrPsjY08kfvsle02nH4reAiB7p+PIDqTFmDLrdu3Qo+qvzA82cKfVx6/6k/utlzGjgGFomxrO0+/LJ3GSxK7Xnhj0HDQNaQFGVNl+rs3VfcrOl48009h4M95TpOH0D1prRBFx2/p93MPTt3u5PvFu/4vc0DI8EJahrUgSRZ1rZuHyjkcende0aCxomsIWn3798Psrapq79wx6UffvOuW93S4bZu7XL/+Mc/wr8IgGpNeYMu2s2s3c1Llja5E+d+X4jZ9IEX/uRWr9vkNmxsCxonIA2WtcVLmtyh0fe9y2beanDkmlu7vt1tbCNrSI9lbdHiJrf3hfxnTbPmfUffcg3zFriRkZHguHwAE5eJBt3oSgrNzc2ueW2LO/Xan72DQL3X0JmP3NqNXcHGyLvvvssghilhWVvdvM4dPnvNu6zWe+07+5Fr3bQtuFY1WcNUsaytXL3O7Xspn1kbOPk717hoaXA1m48//jj8nwOYjEw16ObKlSvBh61s2NjuXnjrP7wDQr3V/vOfuHVt3cEl3XT8K80CssCy1rKh3R177d+9y2691YGxrLW2bydryBTLmvbmHPr1Te+yW2+lvVNNK9a4NWMbIDdu3Aj/pwBqIZMNumilqjPiFyxY4LZ276zbSzKqMW/dsjs4Me3ChQtcNQKZE83a5q6ddXtJRmWtfdvu4CoaZA1ZZFmbP5a1TVt2uCMX6jNr2ju1pmVTsHdKGx4Aai+zDbrRSvb8+fPBJRl7d+11p9/5m3fAyFrpgxl0Fvu8eQvc6OgoJ8sg86JZ69651w2/9d/eZTtrpaxt7RvL2nyyhvpgWZs7lrXO7kF35M1Pvct21kp7p9ZverJ3isPGgGRlvkE3WunqxJPZs2e7lvUb3dDRM+7EW9maVdcM3vZ9Z4KZhVmzZrvh4WGaBdSdaNbWjmVt8PDL7ujr2ZrpU6OwY//Z4HABsoZ6Fc1ac8tGt+vgy+7Qa9nKmmbLe/acDo6h1waFNizYOwUkr24adKOBQSfdHDp0KLius0627N/7vDt27s/BWeS+ASap0vPpaixbdx0LTpDRJdz0uq5fv84AhroXz5qu/NI3NOwOnb02JVnbPXLNdQ8Mu8bFZA35Es/aorGs9QwOu70vTUHWLj0IPi9g6479bv6CxuC4+RMnTribN28yYw6kqO4a9Ljbt28HHyGsa85q635b7253aORdd/ydZK49e/TiZ27H0d+4tq39buas2W79+tbg+fU6gDx7JmtzG4Lrqe8//W5i11RX1vqO/Sb4SP4ga61kDcUQz9rm7gE3dPKdxK6prmuX9w+/FRwXrz1SbW1twUz53bt3w1cEIG1136BH6cMhdAJOd3e3mz59enBM6opVa9yG9q1uS8+g27XvlNtz7FW3/4XL7sCZfwk+8luzE/qYfc0a6F/NiO96/pLbdeic6x06FRwfuG5Dp2tavio40XPGjJmut7c3eB6uqYyiKpm1TU+ytnPvKbf76Hm39/R7QdaCjMWypitADBx/J8jajrH7d26PZW0mWQN8WVu+co1rDbOm7AwcOe+GTr3n9r38RdaUM8vanhevucETY1k7fM71DB53m8ey1jKWtWUrnmRt5ljW+vv73eXLl93Dhw/DZwYwlXLVoMdppa6ZCO0G1wktmpE4cuSI6+vrC2YIlixZ4qZNm+Z+8YtfBAPf4sVLguu4aqDSMa26v35Pux7v3LnDwAWUUG3W9D1ZA6o32aydO3eOrAF1INcNeiU0UGkwY5ACkkXWgHTow4KUNfY8AfWr8A26dqFrpkHXTQaQHLIGpEMz5WQNqG+FbtAfPXoU7ALUQKaPYgaQDLIGpENXWtFnGZA1oL4VukG/evVqMIhZ6Xg8ALVH1oB0xLPGVY+A+lToBn1wcPCZgUzXegVQe2QNSIdOFiVrQP0rbIOu3YD69LboQKYPiOCDGIDaImtAOnQCth1KZrVgwQKyBtShwjbousRUdBCz0qWrANQOWQPScfHiRbIG5ERhG3R9pLJvINOueAC1Q9aAdLS2tnqzpmugA6gvhW3QtYvdN5Bp96CuOAGgNsgakDx9LL8vZyqyBtSfQjboN2/e9A5iVvpYZQCTR9aAdIyMjHgzZkXWgPpSyAZ9vIFMH4sMYPLIGpCOUnuqrNra2sJ7AqgHhWzQm5qavANYtO7duxfeG8BEkTUgeTdu3PBmK15kDagfhWvQP/30U+/AFa8zZ86EvwFgIsgakI6hoSFvtuI1Ojoa/gaArCtcg65mwDdwxUszfwAmjqwByfv888/dzJkzvdmKF1kD6kfhGvSWlhbvwOUrneAGYGLIGpC8y5cvezNVqsgaUB8K1aDfv3/fO2CVKl2/GUD1yBqQjs2bN3szVar2798f/iaALCtUg37hwgXvgFWq9PHk2n0IoDpkDUieNoSnTZvmzVSpImtAfShUg17tTIPqypUr4W8DqBRZA5J37tw5b5bGq/fffz98BABZVZgG/eHDh1XPNKi6u7vDRwBQCbIGpGP16tXeLI1XZA3IvsI06O+++653oBqv1Gio4QBQGbIGJO/jjz/25qiSUtYePHgQPhKALCpMg97b2+sdqCopHU8LoDJkDUje8PCwN0OVFlkDsq0QDfqjR4/c9OnTvYNUJdXc3Bw+EoByyBqQvMePH7uGhgZvhiotsgZkWyEa9KtXr3oHqGrqzp074aMBKIWsAcmrRc5Ut2/fDh8RQNYUokEfHBz0Dk7V1IkTJ8JHA1AKWQOS19fX581OtUXWgOzKfYOuXYG67qtvcKqmGhsbg8cC4EfWgOTpROrJHEYWrQULFpA1IKNy36DrTPXR0VFvtbe3PzNY6Xvf/aw46x0ojawByfv000+9mbEia0A+FOIQl1I0OEUHMn0PoPbIGpAOsgbkAw06AxmQOLIGpIOsAflAg85ABiSOrAHpIGtAPtCgM5ABiSNrQDrIGpAPNOgMZEDiyBqQDrIG5AMNOgMZkDiyBqSDrAH5QIPOQAYkjqwB6SBrQD7QoDOQAYkja0A6yBqQDzToDGRA4sgakA6yBuQDDToDGZA4sgakg6wB+UCDzkAGJI6sAekga0A+0KAzkAGJI2tAOsgakA806AxkQOLIGpAOsgbkAw06AxmQOLIGpIOsAflAg85ABiSOrAHpIGtAPtCgM5ABiSNrQDrIGpAPNOgMZEDiyBqQDrIG5AMNOgMZkDiyBqSDrAH5QIPOQAYkjqwB6SBrQD7QoDOQAYkja0A6yBqQDzToDGRA4sgakA6yBuQDDToDGZA4sgakg6wB+UCDzkAGJI6sAekga0A+0KAzkAGJI2tAOsgakA806AxkQOLIGpAOsgbkAw06AxmQOLIGpIOsAflAg85ABiSOrAHpIGtAPtCgM5ABiSNrQDrIGpAPNOgMZEDiyBqQDrIG5AMNOgMZkDiyBqSDrAH5QIPOQAYkjqwB6SBrQD7QoDOQAYkja0A6yBqQDzToDGRA4sgakA6yBuQDDToDGZA4sgakg6wB+UCDzkAGJI6sAekga0A+0KAzkAGJI2tAOsgakA806AxkQOLIGpAOsgbkAw06AxmQOLIGpIOsAflAg85ABiSOrAHpIGtAPtCgM5ABiSNrQDrIGpAPNOgMZEDiyBqQDrIG5AMNOgMZkDiyBqSDrAH5QIPOQAYkjqwB6SBrQD7QoDOQAYkja0A6yBqQDzToDGRA4sgakA6yBuQDDToDGZA4sgakg6wB+UCDzkAGJI6sAekga0A+0KAzkAGJI2tAOsgakA806AxkQOLIGpAOsgbkAw06AxmQOLIGpIOsAflAg85ABiSOrAHpIGtAPtCgM5ABiSNrQDrIGpAPNOgMZEDiyBqQDrIG5AMNOgMZkDiyBqSDrAH5QIPOQAYkjqwB6SBrQD7QoDOQAYkja0A6yBqQDzToDGRA4sgakA6yBuQDDToDGZA4sgakg6wB+UCDzkAGJI6sAekga0A+0KAzkAGJI2tAOsgakA806AxkQOLIGpAOsgbkAw06AxmQOLIGpIOsAflAg85ABiSOrAHpIGtAPtCgM5ABiSNrQDrIGpAPNOgMZEDiyBqQDrIG5AMNOgMZkDiyBqSDrAH5QIPOQAYkjqwB6SBrQD7QoDOQAYkja0A6yBqQDzToDGRA4sgakA6yBuQDDToDGZA4sgakg6wB+UCDzkAGJI6sAekga0A+0KAzkAGJI2tAOsgakA806AxkQOLIGpAOsgbkAw06AxmQOLIGpIOsAflQ6Ab9xo0bweBlpe8B1B5ZA9JB1oB8KHSDDgAAAGQNDToAAACQITToAAAAQIbQoAMAAAAZQoMOAAAAZAgNOgAAAJAhNOgAAABAhtCgAwAAABlCgw4AAABkCA06AAAAkCE06AAAAECG0KADAAAAGUKDDgAAAGRIphr0P//5z+7nP/+5+9a3vhXUtGnT3EcffRT+tDL6/RkzZgRf/+1vf3M/+MEP3IMHD4LH+eEPf+j++c9/Bj+Tixcvhl89ofuqaqWtrc0999xz7tKlS8Fr0teffPJJ8DN9r/8fkAQt5z/+8Y9dX19feMuztBzOmTPnmazdunUr/GllFi1a5H7yk58EX3/22Wfu+9//fpA5PY6+fvToUfCzWvvrX//qvvnNb5b8v5WisUG/V45+rpyK/rX7awz5+te/7s6ePRt8j2JSrrTcafnWsqF/d+/eHf60Mp2dne573/te8LUy8qMf/ch9+OGHTzOkf6XW66OpYuvBo0ePPl0Pap0o8+fPdz/96U+DrwE8KzMN+gcffOC+8pWvuK997Wtu5cqVQelr3aafVUIrzy9/+cvBClz0GBoU5Gc/+9nTQUGam5ufroiNBtzxVuDVKNeg6zXqtZ4/fz74HqglNc9a3rQMxmnZU7P51a9+1TU1NQU50de6zZbP8WiZ/tKXvvS0qdfz9PT0BF9rWR8dHQ2+ToJeY6n/WznaQI9nPk751/9LdF9tvJiDBw8GfyM16yge2+jVcqGNPS1/aqj1vRrNSmiiSMuXrYu0TCl/sn79+mea/Vqvj6aKrQdPnz79dD34+9//PviZNug19uhnAJ6VmQZdMwVqWKMz5ppV0GCmQXE8Gjy1MlXDYfR7GhC0Qv32t7/9zM98K+skBkTNDthg9N3vfjcYkIxej15zdFYfmAzNvmlWW8u2ytfEKhPKlfZYGeVO+at0NkvLsh7H6GvLmrIVzVqtKS9q0qttlCtp0DWjaU25/iaa3TR6Xo0P1lChWNQ8a/mxDVGJNu2V7IFSNrUcGuVTmdPyHM2Q5KVBF02Qvffee8HX2qixSTTRZNk3vvGNxPa4AfUqMw26BiLb7Rel2yoZpI4fPx4MktEG31bIGvz0GLZy1uBgMx/6me1SjA6Iuo9mOTSolBs41OTofmrC4422btfr1+2aIYhvaOi16jXotQOTpT1Imo1S8217iOINupZlNeLRxtOoOdDvjtf46nn02NE9W/pdy1OpRlgNjDJhv6fn0f2Ncqjv4znSa9btf//734Pv9XN973ud2gDWc6gs18b3uuyx7HWo+Vbpds2Sxg9f0OEJ+vvFHxv5pw2373znO+F3X9DYrz1WmlAqR+sKLX/Rw6RsdlnLazRDEl0fWXZ8zxHNkdYpul98nWW3a31mOTL63fjybLkodbueU4+jr3Wbnk9/Bz1HtPkWPacmyHQf7VnTujdK99f/u9pDhYC8y0yDrkZWh7NEBw99rYbD17jHaQY+Pni+/vrrwSEuehwNDHa4izXrVhoY7XaVmhs1KvZzHWqjgSdKTYYGnejjaPd39JAVDcg2Y+4bGEWvOQ/HGWLq2WycVsZacWqZjDfoWon6bpe9e/cGPxvvsCttaFrjYLR8W9Ysd0a3RWf1VWqW1QjraxNvUIyyp9vtMX3/Nz2HGmrdbqUM67ABE2/Q1VhoZk+32fHsOi9Ft4v+H3FqlKL3RzFoHNf7Hl2eqjVnzpxgHRdtnrWO0HKtx49mSJQxzSxbLqy0PoxmxJp8HS5j97HJII0Fur/drtJriO4F0HNoj1iUcqD7KjNRNhGmn+u16mvdpsewx1fp/2q0UWFNu8Yf34a11oHx1wAUXWYadK0MNTOlrWs1CCp9rdt8K8ooGzwr3a2uQUKDgX5HK38NYmKNu2ZK1NBrENSgp9eg5tvodg1y1pDrez2mXq+aAn1dKb1mPac18sBERVf8viZWbAUbbaCNlmX9TMt8KWoetIxHV8DjseZcM2R6jcqbVsi2EWwm06Dbc+g2NdF6Dm2sRH8v2qD7mvNKqRlho7pYosugmltrSLUe0IZmNHulaKInvhe1nOj6SA2xlntbH2lixzYkrUG387e0l0frL81+ax2l16jf0+9rYskOybHl3s5Xia6DbONZz2UbDKKTyTVppue2Bl330YaLGnFtZNje6WqOK9fv63fi2QeKLDMNugJvA0204g2Gj+1yr+ZQEd/ubhsQ47sR1YzodjvGUCcE6fv4yasaEDVYVTMI2yAX3e0JTJaviRVb3qxpjbImpFzmbGat0t3RapR1f9tLZTSLphW9fmYm2qDboQPxE/XUNKlpsePqLfOTac5Fj6ecW4OE/LMNWzWfang1saJlR4eK6fbxxnzLgfbOVsrWR/H1TFdXV3C7rTOUA32vpjrKbo83ylpu1fQrf8qIZTo6JmgDQKXbbYJMv6c82dXHbCxRgx+l1+u7vRxtUPheK1BkmWnQbYWpAUyDmZpk24rXrutybMDSirxSpRr06Ey5sYHOHl+Dm+6nRiFe2p2olXelrPnQ/wGoFS2LWq6siTWTbdBtN/p4e7WMmhjd33fYjB2SYibaoNtzjPeaLPO2wT3RwxVsxjH+OpFflhuN7fEJHFuO1eiWomVT9ym3dypO6yPfYR92mJU1wLZ+ii//2sujjQnfhmR0naaf637WeNseab1W7eWyjQrNjut2NdNif5P45JI2vnV7fKO8nHKH3gFFlYkG3bbgfVvctjLU4FCKDTZq7CtVqkFXxUUHM9HX41Wlh6xU0hQB1SrVoJc7xMWaCB2LXko8C+Mpd3/7mZlog26PM17DbJlX06GGRFmP7r6vlD1fNYeyob7ZDK8mkuJsxjg+gx1lzawvd6Vo+dQy6xN9LaUyVmp9JvHXo40Mm5yyn2mPsJp87TUQNeraQLHM2P182dbt1TTolulKL1cJFEEmGnSbAffNQFjzruPqSrEBKr4rsJzJNOhawWtmQ9+XqkqOSRTdV4+t5wBqpVSDbjNV0ZPEjJ0kWu5wq2r3VpVqHsSOOzWlGnTbcLBmolSDHp/ZjLPMq9my5qKa3fDGnk+H1qAYrAn3NZ22PJZrSG15s2W4EqUadK1bos9XKmPa01uqQbc9YXZIiW246/+pmXSbuddja32nplyHvOhcD5NEg15uIwcomkw06LaL2nadRdnK2ddQGLs+bXwXXzmTadA1UNmJMnHalV9p8yL2/+MSU6ilUg26neTpO2zMzq0ot/fHVuS+rPrYzKNvVt5O7DSlGnTbcCjVoMebjSgdK2z/13jm7fjhavIq9jo5sbs41BRr9th3eVLb6C03iaRlTPep5pwHrYt0pbA4O9TElv/4+slYvuKXShTbM20bmTosReOCNsA1k26Nsj2X1r/6N3qITi0bdPv7cKgn8IVMNOg6pk6Dg1ag0aZXX9tKtNzsmA0i1TS5doWHqEobdA3EvsFEg53+H7ZLsBK2cVLuEB6gWqUadLGTHKOHhOkyaNro9DUgUXZCZrlmJEobBHpcbdRGDydRnvUa9FjGZtSjM/gaA+yqEKUadDXKeiztjo+OH/o/6XY7gS/eoOtxJnKoi55HJ8uhWGzDLN6Q2jHo5dZRapJ1n2r22Gi51O/Ez99QfrWesecr1aDbxnR8Vlq5VyY1wx6l7Nulg22yS3lSRrS86/boRmktG/RKL/EKFEkmGnSxlbNOslSjrdKKULeNd+a7Zjc0iPhmBUuxGQSttK3ZqLRB18rcLtOo3YGaVdB9NIjpdVRzqI1es36n0kNigEqUa9C1gtYyp5kyzYxpI1HLvW6r5LANLefRXd3jUcOthkJNunKtvFlW9BqNbeDqdjUVGhP0Oyrdr1SDLnbojcYMPYe+j/+ffHvNbAO50sbJGhY7oQ7FoQ0+ZUbvv9ZJGvdtlnq8dZRoneE76bMULb9qpO351MTaMhw9wblUg65l1V6f/tXvR9dT8Ukhy4I2aqMbrPYYylZULRv0OXPm/K/nBYouMw26aItfDbpW0ip9rdsqoRWmBp7oDFo5mgnQzJoGQbsMm5plX5OvgUgDY7R50UCiQVOzEBqMNJDqcSppcIxeq15zNQMZUAkt31pmramN03Kq5V8rRWVNK99KNyx1KIxW8NVsVOpcEj2HnkvXkFYDbTOSUZq504y57qdsqFHXHjb9X2xWr9T/TYe42Pih16f/XzSPOtxFvxelDGrs0O1q/Mdj58Qw01dMWvbUTGq813KgGedK99zaRqR9aM94tC7SMqt1oM1s69/44WK+9ZPR8q3ntY1cvW6dXOqb7becxU/UVK58eVMeSz2vbtfzVkpjgu8EXKDIMtWgT4YdB1hPK069Vr3mapp6YKpp5a7ldrLXLPY16Fmn16yN8konAgCj5l4bxOXOpyoizcBrHPDNxANFlpsGXXQM3XgfGJEler02ew/UE812VXOuhU+9NejWYJXaKwGMR3uEtNeWDbwvaB2oGXcAz8pVg65ja7UCrYcTLvUa9VqruXY7kBV2gqUddjIR9dag63ADbZTQXGGidLUUHc7BRt4T2nusQ9LKnWALFFWuGnTRiTuVnLAz1ewkI6BeqcmYzAeL6ORR30msWaTGSnvn2KDGZGmjVseXs6H35ATXSo/hB4omdw06AAAAUM9o0AEAAIAMoUEHAAAAMoQGHQAAAMgQGnQAAAAgQ2jQAQAAgAyhQQcAAAAyhAYdAAAAyBAadAAAACBDaNABAACADKFBBwAAADLDuf8PJAkWEYBFpr0AAAAASUVORK5CYII=)"
      ],
      "metadata": {
        "id": "kRWSLitZYNJd"
      }
    },
    {
      "cell_type": "code",
      "source": [
        "tmp_x=pad(english_pad_sequences,max_french_sequence_length)\n",
        "tmp_x=tmp_x.reshape((-1,french_pad_sequences.shape[-2],1))"
      ],
      "metadata": {
        "id": "k0-43dFeXOoB"
      },
      "execution_count": 28,
      "outputs": []
    },
    {
      "cell_type": "code",
      "source": [
        "model_rnn=Sequential()\n",
        "model_rnn.add(SimpleRNN(128,return_sequences=True,input_shape=tmp_x.shape[1:]))\n",
        "model_rnn.add(TimeDistributed(Dense(1024,activation='relu')))\n",
        "model_rnn.add(Dropout(0.5))\n",
        "model_rnn.add(TimeDistributed(Dense(french_vocabulary,activation='softmax')))"
      ],
      "metadata": {
        "id": "CQuDt--xXU0B"
      },
      "execution_count": 30,
      "outputs": []
    },
    {
      "cell_type": "code",
      "source": [
        "learning_rate=0.005\n",
        "model_rnn.compile(\n",
        "    loss=sparse_categorical_crossentropy,\n",
        "    optimizer=Adam(learning_rate),\n",
        "    metrics=['accuracy']\n",
        ")"
      ],
      "metadata": {
        "id": "Tx7F_fUrX4Dy"
      },
      "execution_count": 31,
      "outputs": []
    },
    {
      "cell_type": "code",
      "source": [
        "model_rnn.fit(tmp_x,french_pad_sequences,batch_size=1024,epochs=10,validation_split=0.2)"
      ],
      "metadata": {
        "colab": {
          "base_uri": "https://localhost:8080/"
        },
        "id": "iozxQD1TX7fS",
        "outputId": "679f3053-d321-42e4-ced6-a49e3165ed6a"
      },
      "execution_count": 32,
      "outputs": [
        {
          "output_type": "stream",
          "name": "stdout",
          "text": [
            "Epoch 1/10\n",
            "108/108 [==============================] - 7s 50ms/step - loss: 1.8062 - accuracy: 0.5651 - val_loss: 1.3105 - val_accuracy: 0.6329\n",
            "Epoch 2/10\n",
            "108/108 [==============================] - 5s 44ms/step - loss: 1.2530 - accuracy: 0.6385 - val_loss: 1.1226 - val_accuracy: 0.6568\n",
            "Epoch 3/10\n",
            "108/108 [==============================] - 5s 44ms/step - loss: 1.2765 - accuracy: 0.6368 - val_loss: 1.2268 - val_accuracy: 0.6446\n",
            "Epoch 4/10\n",
            "108/108 [==============================] - 5s 43ms/step - loss: 1.1803 - accuracy: 0.6503 - val_loss: 1.0644 - val_accuracy: 0.6705\n",
            "Epoch 5/10\n",
            "108/108 [==============================] - 4s 41ms/step - loss: 1.0920 - accuracy: 0.6640 - val_loss: 1.0163 - val_accuracy: 0.6864\n",
            "Epoch 6/10\n",
            "108/108 [==============================] - 5s 42ms/step - loss: 1.0464 - accuracy: 0.6728 - val_loss: 0.9658 - val_accuracy: 0.6939\n",
            "Epoch 7/10\n",
            "108/108 [==============================] - 6s 52ms/step - loss: 1.0084 - accuracy: 0.6802 - val_loss: 0.9337 - val_accuracy: 0.6994\n",
            "Epoch 8/10\n",
            "108/108 [==============================] - 6s 51ms/step - loss: 0.9786 - accuracy: 0.6857 - val_loss: 0.9095 - val_accuracy: 0.7003\n",
            "Epoch 9/10\n",
            "108/108 [==============================] - 5s 47ms/step - loss: 0.9561 - accuracy: 0.6900 - val_loss: 0.8812 - val_accuracy: 0.7071\n",
            "Epoch 10/10\n",
            "108/108 [==============================] - 5s 48ms/step - loss: 0.9333 - accuracy: 0.6948 - val_loss: 0.8711 - val_accuracy: 0.7081\n"
          ]
        },
        {
          "output_type": "execute_result",
          "data": {
            "text/plain": [
              "<keras.src.callbacks.History at 0x7cdb455a3ac0>"
            ]
          },
          "metadata": {},
          "execution_count": 32
        }
      ]
    },
    {
      "cell_type": "code",
      "source": [
        "tmp_x=pad(english_pad_sequences,max_french_sequence_length)\n",
        "tmp_x=tmp_x.reshape((-1,french_pad_sequences.shape[-2]))"
      ],
      "metadata": {
        "id": "bvPnX0IYAJRt"
      },
      "execution_count": 14,
      "outputs": []
    },
    {
      "cell_type": "code",
      "source": [
        "tmp_x.shape"
      ],
      "metadata": {
        "colab": {
          "base_uri": "https://localhost:8080/"
        },
        "id": "1MJA3oVrHYqD",
        "outputId": "c862d554-ade3-48ed-d2f2-3b4c978c6985"
      },
      "execution_count": 15,
      "outputs": [
        {
          "output_type": "execute_result",
          "data": {
            "text/plain": [
              "(137861, 21)"
            ]
          },
          "metadata": {},
          "execution_count": 15
        }
      ]
    },
    {
      "cell_type": "markdown",
      "source": [
        "**Simple RNN with Embedding**\n",
        "![Simple_RNN_embedding.png](data:image/png;base64,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)"
      ],
      "metadata": {
        "id": "OdU0-kr5UJk1"
      }
    },
    {
      "cell_type": "code",
      "source": [
        "model=Sequential()\n",
        "model.add(Embedding(english_vocabulary,256,input_length=tmp_x.shape[1],input_shape=tmp_x.shape[1:]))\n",
        "model.add(SimpleRNN(256,return_sequences=True))\n",
        "model.add(TimeDistributed(Dense(1024,activation='relu')))\n",
        "model.add(Dropout(0.5))\n",
        "model.add(TimeDistributed(Dense(french_vocabulary,activation='softmax')))"
      ],
      "metadata": {
        "id": "sY5iqcgdBHBe"
      },
      "execution_count": 16,
      "outputs": []
    },
    {
      "cell_type": "code",
      "source": [
        "model.summary()"
      ],
      "metadata": {
        "colab": {
          "base_uri": "https://localhost:8080/"
        },
        "id": "j5amUdVvHwIG",
        "outputId": "2b5363b5-dd45-42f4-f7c0-4bfbf1860f45"
      },
      "execution_count": 17,
      "outputs": [
        {
          "output_type": "stream",
          "name": "stdout",
          "text": [
            "Model: \"sequential\"\n",
            "_________________________________________________________________\n",
            " Layer (type)                Output Shape              Param #   \n",
            "=================================================================\n",
            " embedding (Embedding)       (None, 21, 256)           51200     \n",
            "                                                                 \n",
            " simple_rnn (SimpleRNN)      (None, 21, 256)           131328    \n",
            "                                                                 \n",
            " time_distributed (TimeDist  (None, 21, 1024)          263168    \n",
            " ributed)                                                        \n",
            "                                                                 \n",
            " dropout (Dropout)           (None, 21, 1024)          0         \n",
            "                                                                 \n",
            " time_distributed_1 (TimeDi  (None, 21, 345)           353625    \n",
            " stributed)                                                      \n",
            "                                                                 \n",
            "=================================================================\n",
            "Total params: 799321 (3.05 MB)\n",
            "Trainable params: 799321 (3.05 MB)\n",
            "Non-trainable params: 0 (0.00 Byte)\n",
            "_________________________________________________________________\n"
          ]
        }
      ]
    },
    {
      "cell_type": "code",
      "source": [
        "learning_rate=0.005\n",
        "model.compile(\n",
        "    loss=sparse_categorical_crossentropy,\n",
        "    optimizer=Adam(learning_rate),\n",
        "    metrics=['accuracy']\n",
        ")"
      ],
      "metadata": {
        "id": "zkD8sYp7A5rg"
      },
      "execution_count": 18,
      "outputs": []
    },
    {
      "cell_type": "code",
      "source": [
        "model.fit(tmp_x,french_pad_sequences,batch_size=1024,epochs=10,validation_split=0.2)"
      ],
      "metadata": {
        "colab": {
          "base_uri": "https://localhost:8080/"
        },
        "id": "TN3bWP1UC0pm",
        "outputId": "e3fff2db-114e-4360-cea1-d6db68be2cac"
      },
      "execution_count": 20,
      "outputs": [
        {
          "output_type": "stream",
          "name": "stdout",
          "text": [
            "Epoch 1/10\n",
            "108/108 [==============================] - 6s 55ms/step - loss: 0.3236 - accuracy: 0.8946 - val_loss: 0.2704 - val_accuracy: 0.9091\n",
            "Epoch 2/10\n",
            "108/108 [==============================] - 6s 53ms/step - loss: 0.2830 - accuracy: 0.9057 - val_loss: 0.2520 - val_accuracy: 0.9127\n",
            "Epoch 3/10\n",
            "108/108 [==============================] - 5s 50ms/step - loss: 0.2610 - accuracy: 0.9119 - val_loss: 0.2379 - val_accuracy: 0.9193\n",
            "Epoch 4/10\n",
            "108/108 [==============================] - 6s 60ms/step - loss: 0.2443 - accuracy: 0.9170 - val_loss: 0.2317 - val_accuracy: 0.9197\n",
            "Epoch 5/10\n",
            "108/108 [==============================] - 6s 53ms/step - loss: 0.2310 - accuracy: 0.9210 - val_loss: 0.2149 - val_accuracy: 0.9253\n",
            "Epoch 6/10\n",
            "108/108 [==============================] - 6s 56ms/step - loss: 0.2236 - accuracy: 0.9232 - val_loss: 0.2003 - val_accuracy: 0.9300\n",
            "Epoch 7/10\n",
            "108/108 [==============================] - 5s 51ms/step - loss: 0.2113 - accuracy: 0.9265 - val_loss: 0.2021 - val_accuracy: 0.9287\n",
            "Epoch 8/10\n",
            "108/108 [==============================] - 6s 56ms/step - loss: 0.2075 - accuracy: 0.9275 - val_loss: 0.1955 - val_accuracy: 0.9318\n",
            "Epoch 9/10\n",
            "108/108 [==============================] - 6s 52ms/step - loss: 0.2044 - accuracy: 0.9286 - val_loss: 0.1986 - val_accuracy: 0.9307\n",
            "Epoch 10/10\n",
            "108/108 [==============================] - 6s 53ms/step - loss: 0.1985 - accuracy: 0.9305 - val_loss: 0.1888 - val_accuracy: 0.9338\n"
          ]
        },
        {
          "output_type": "execute_result",
          "data": {
            "text/plain": [
              "<keras.src.callbacks.History at 0x7cdb4c1df550>"
            ]
          },
          "metadata": {},
          "execution_count": 20
        }
      ]
    },
    {
      "cell_type": "code",
      "source": [
        "import numpy as np\n",
        "def logits_to_texts(logits,tokenizer):\n",
        "  index2word={id:word for word,id in tokenizer.word_index.items()}\n",
        "  index2word[0]='PAD'\n",
        "  return ' '.join([index2word[prediction] for prediction in np.argmax(logits,1)])"
      ],
      "metadata": {
        "id": "7XpF_JccDBE_"
      },
      "execution_count": 21,
      "outputs": []
    },
    {
      "cell_type": "code",
      "source": [
        "logits_to_texts(model.predict(tmp_x[:1])[0],french_tokenizer)"
      ],
      "metadata": {
        "colab": {
          "base_uri": "https://localhost:8080/",
          "height": 53
        },
        "id": "TVnNrHlgGmND",
        "outputId": "92480984-6243-48aa-93ea-69744444eed0"
      },
      "execution_count": 22,
      "outputs": [
        {
          "output_type": "stream",
          "name": "stdout",
          "text": [
            "1/1 [==============================] - 0s 185ms/step\n"
          ]
        },
        {
          "output_type": "execute_result",
          "data": {
            "text/plain": [
              "\"new jersey est parfois calme en l' automne et il est neigeux en avril PAD PAD PAD PAD PAD PAD PAD\""
            ],
            "application/vnd.google.colaboratory.intrinsic+json": {
              "type": "string"
            }
          },
          "metadata": {},
          "execution_count": 22
        }
      ]
    },
    {
      "cell_type": "code",
      "source": [],
      "metadata": {
        "colab": {
          "base_uri": "https://localhost:8080/"
        },
        "id": "jLUCMzVeJHvn",
        "outputId": "64509442-5797-451b-c36c-19a686927d1f"
      },
      "execution_count": null,
      "outputs": [
        {
          "output_type": "stream",
          "name": "stdout",
          "text": [
            "1/1 [==============================] - 0s 26ms/step\n"
          ]
        },
        {
          "output_type": "execute_result",
          "data": {
            "text/plain": [
              "array([[4.1293948e-08, 3.6913900e-07, 4.4647784e-08, ..., 3.3123149e-15,\n",
              "        3.1085723e-14, 3.4286496e-15],\n",
              "       [1.1235589e-09, 2.2282906e-07, 1.9546754e-08, ..., 8.0022894e-20,\n",
              "        1.0178593e-18, 1.0544121e-19],\n",
              "       [1.7577638e-09, 9.8695582e-01, 3.9959335e-07, ..., 7.9213223e-21,\n",
              "        5.8003423e-20, 1.3491229e-21],\n",
              "       ...,\n",
              "       [9.9999964e-01, 7.8064999e-10, 2.1664745e-08, ..., 7.1769445e-24,\n",
              "        1.5994162e-22, 3.8575352e-23],\n",
              "       [9.9999988e-01, 2.3681129e-10, 6.5088592e-09, ..., 2.2790869e-25,\n",
              "        6.3240478e-24, 1.3409213e-24],\n",
              "       [1.0000000e+00, 7.6570701e-11, 2.0742827e-09, ..., 1.1859835e-26,\n",
              "        3.9196253e-25, 7.5572030e-26]], dtype=float32)"
            ]
          },
          "metadata": {},
          "execution_count": 57
        }
      ]
    },
    {
      "cell_type": "markdown",
      "source": [
        "**Bidirectional GPU**\n",
        "\n",
        "![bidirectional.png](data:image/png;base64,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)"
      ],
      "metadata": {
        "id": "4t4XuIWIVtA6"
      }
    },
    {
      "cell_type": "code",
      "source": [
        "tmp_x=pad(english_pad_sequences,max_french_sequence_length)\n",
        "tmp_x=tmp_x.reshape((-1,french_pad_sequences.shape[-2],1))"
      ],
      "metadata": {
        "id": "SKAOaQysNtlX"
      },
      "execution_count": 23,
      "outputs": []
    },
    {
      "cell_type": "code",
      "source": [
        "model1=Sequential()\n",
        "model1.add(Bidirectional(GRU(128,return_sequences=True),input_shape=tmp_x.shape[1:]))\n",
        "model1.add(TimeDistributed(Dense(1024,activation='relu')))\n",
        "model1.add(Dropout(0.5))\n",
        "model1.add(TimeDistributed(Dense(french_vocabulary,activation='softmax')))"
      ],
      "metadata": {
        "id": "56BNaZgXHBUv"
      },
      "execution_count": 24,
      "outputs": []
    },
    {
      "cell_type": "code",
      "source": [
        "learning_rate=0.005\n",
        "model1.compile(\n",
        "    loss=sparse_categorical_crossentropy,\n",
        "    optimizer=Adam(learning_rate),\n",
        "    metrics=['accuracy']\n",
        ")"
      ],
      "metadata": {
        "id": "-o-KtqZWN0dj"
      },
      "execution_count": 25,
      "outputs": []
    },
    {
      "cell_type": "code",
      "source": [
        "model1.fit(tmp_x,french_pad_sequences,batch_size=1024,epochs=10,validation_split=0.2)"
      ],
      "metadata": {
        "colab": {
          "base_uri": "https://localhost:8080/"
        },
        "id": "Vf9ICup0PMYf",
        "outputId": "46d03168-e0b3-45a9-fb0f-728f9edd41aa"
      },
      "execution_count": 27,
      "outputs": [
        {
          "output_type": "stream",
          "name": "stdout",
          "text": [
            "Epoch 1/10\n",
            "108/108 [==============================] - 6s 54ms/step - loss: 1.7441 - accuracy: 0.5775 - val_loss: 1.2246 - val_accuracy: 0.6469\n",
            "Epoch 2/10\n",
            "108/108 [==============================] - 5s 48ms/step - loss: 1.1798 - accuracy: 0.6534 - val_loss: 1.0504 - val_accuracy: 0.6737\n",
            "Epoch 3/10\n",
            "108/108 [==============================] - 5s 48ms/step - loss: 1.0466 - accuracy: 0.6764 - val_loss: 0.9342 - val_accuracy: 0.6972\n",
            "Epoch 4/10\n",
            "108/108 [==============================] - 5s 50ms/step - loss: 0.9572 - accuracy: 0.6904 - val_loss: 0.8630 - val_accuracy: 0.7095\n",
            "Epoch 5/10\n",
            "108/108 [==============================] - 5s 48ms/step - loss: 0.9016 - accuracy: 0.7004 - val_loss: 0.8202 - val_accuracy: 0.7202\n",
            "Epoch 6/10\n",
            "108/108 [==============================] - 5s 48ms/step - loss: 0.8607 - accuracy: 0.7077 - val_loss: 0.7780 - val_accuracy: 0.7256\n",
            "Epoch 7/10\n",
            "108/108 [==============================] - 5s 50ms/step - loss: 0.8226 - accuracy: 0.7163 - val_loss: 0.7454 - val_accuracy: 0.7333\n",
            "Epoch 8/10\n",
            "108/108 [==============================] - 5s 48ms/step - loss: 0.7925 - accuracy: 0.7234 - val_loss: 0.7344 - val_accuracy: 0.7368\n",
            "Epoch 9/10\n",
            "108/108 [==============================] - 5s 50ms/step - loss: 0.7754 - accuracy: 0.7275 - val_loss: 0.6969 - val_accuracy: 0.7503\n",
            "Epoch 10/10\n",
            "108/108 [==============================] - 5s 48ms/step - loss: 0.7519 - accuracy: 0.7348 - val_loss: 0.6846 - val_accuracy: 0.7502\n"
          ]
        },
        {
          "output_type": "execute_result",
          "data": {
            "text/plain": [
              "<keras.src.callbacks.History at 0x7cdbc46d0730>"
            ]
          },
          "metadata": {},
          "execution_count": 27
        }
      ]
    },
    {
      "cell_type": "code",
      "source": [],
      "metadata": {
        "id": "o7WHQmjWPhMa"
      },
      "execution_count": null,
      "outputs": []
    }
  ]
}