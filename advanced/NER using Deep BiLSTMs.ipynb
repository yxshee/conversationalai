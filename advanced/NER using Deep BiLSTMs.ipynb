{
  "nbformat": 4,
  "nbformat_minor": 0,
  "metadata": {
    "colab": {
      "provenance": [],
      "gpuType": "T4"
    },
    "kernelspec": {
      "name": "python3",
      "display_name": "Python 3"
    },
    "language_info": {
      "name": "python"
    },
    "accelerator": "GPU"
  },
  "cells": [
    {
      "cell_type": "code",
      "execution_count": null,
      "metadata": {
        "id": "iYHlScnWpAVF"
      },
      "outputs": [],
      "source": [
        "import numpy as np\n",
        "import pandas as pd\n",
        "import tensorflow as tf\n",
        "from keras.preprocessing.text import Tokenizer\n",
        "from keras.preprocessing.sequence import pad_sequences\n",
        "from keras.models import Sequential\n",
        "from keras.layers import Dense,Embedding,Bidirectional,LSTM,TimeDistributed\n",
        "from keras.losses import sparse_categorical_crossentropy\n",
        "from keras.optimizers import Adam"
      ]
    },
    {
      "cell_type": "code",
      "source": [
        "df=pd.read_csv('/content/drive/MyDrive/ner.csv')"
      ],
      "metadata": {
        "id": "xoyVzegIqVt9"
      },
      "execution_count": null,
      "outputs": []
    },
    {
      "cell_type": "code",
      "source": [
        "X=df['Sentence']\n",
        "Y=df['Tag']\n"
      ],
      "metadata": {
        "id": "moEAio-pqsHZ"
      },
      "execution_count": null,
      "outputs": []
    },
    {
      "cell_type": "code",
      "source": [
        "max_words=36000\n",
        "tokenizer=Tokenizer(num_words=max_words)\n",
        "tokenizer.fit_on_texts(X)\n",
        "sequences=tokenizer.texts_to_sequences(X)"
      ],
      "metadata": {
        "id": "2IIkPo5Zq2rU"
      },
      "execution_count": null,
      "outputs": []
    },
    {
      "cell_type": "code",
      "source": [
        "max_len=110\n",
        "X_preprocessed=pad_sequences(sequences,maxlen=max_len,padding='post')"
      ],
      "metadata": {
        "id": "-3BqLAb8rdNU"
      },
      "execution_count": null,
      "outputs": []
    },
    {
      "cell_type": "code",
      "source": [
        "from ast import literal_eval\n",
        "Y_ready=[]\n",
        "for sentence_tag in Y:\n",
        "  Y_ready.append(literal_eval(sentence_tag))"
      ],
      "metadata": {
        "id": "fmlBgeqWrvtr"
      },
      "execution_count": null,
      "outputs": []
    },
    {
      "cell_type": "code",
      "source": [
        "tags=[]\n",
        "for y in Y_ready:\n",
        "  for tag in y:\n",
        "    if tag not in tags:\n",
        "      tags.append(tag)"
      ],
      "metadata": {
        "id": "ooRPpj9IsS_a"
      },
      "execution_count": null,
      "outputs": []
    },
    {
      "cell_type": "code",
      "source": [
        "num_tags=len(tags)"
      ],
      "metadata": {
        "id": "eR_lcAzGtNbT"
      },
      "execution_count": null,
      "outputs": []
    },
    {
      "cell_type": "code",
      "source": [
        "tags2id={}\n",
        "for i,tag in enumerate(tags):\n",
        "  tags2id[tag]=i"
      ],
      "metadata": {
        "id": "RKup9H_MshHv"
      },
      "execution_count": null,
      "outputs": []
    },
    {
      "cell_type": "code",
      "source": [
        "id2tags={}\n",
        "for key,value in tags2id.items():\n",
        "  id2tags[value]=key"
      ],
      "metadata": {
        "id": "XaaGqy7otsEG"
      },
      "execution_count": null,
      "outputs": []
    },
    {
      "cell_type": "code",
      "source": [
        "def preprocess_y(tags2id,Y_ready):\n",
        "  Y_preprocessed=[]\n",
        "  max_len=110\n",
        "  for y in Y_ready:\n",
        "    result=[]\n",
        "    for tag in y:\n",
        "      result.append(tags2id[tag])\n",
        "    length=len(result)\n",
        "    num_O_to_append=max_len-length\n",
        "    padded_tags=result+([tags2id['O']]*num_O_to_append)\n",
        "    Y_preprocessed.append(padded_tags)\n",
        "  return Y_preprocessed\n"
      ],
      "metadata": {
        "id": "aJBIqHvMtznX"
      },
      "execution_count": null,
      "outputs": []
    },
    {
      "cell_type": "code",
      "source": [
        "Y_preprocessed=preprocess_y(tags2id,Y_ready)"
      ],
      "metadata": {
        "id": "LULuT_JYuyGX"
      },
      "execution_count": null,
      "outputs": []
    },
    {
      "cell_type": "code",
      "source": [
        "X_train=X_preprocessed[:30000]\n",
        "X_val=X_preprocessed[30000:37000]\n",
        "X_test=X_preprocessed[37000:]"
      ],
      "metadata": {
        "id": "FvmTIwZNu7Dc"
      },
      "execution_count": null,
      "outputs": []
    },
    {
      "cell_type": "code",
      "source": [
        "Y_preprocessed=np.array(Y_preprocessed)\n",
        "Y_train=Y_preprocessed[:30000]\n",
        "Y_val=Y_preprocessed[30000:37000]\n",
        "Y_test=Y_preprocessed[37000:]"
      ],
      "metadata": {
        "id": "xHvizRl0u-Uu"
      },
      "execution_count": null,
      "outputs": []
    },
    {
      "cell_type": "code",
      "source": [
        "train_dataset=tf.data.Dataset.from_tensor_slices((X_train,Y_train))\n",
        "val_dataset=tf.data.Dataset.from_tensor_slices((X_val,Y_val))\n",
        "test_dataset=tf.data.Dataset.from_tensor_slices((X_test,Y_test))"
      ],
      "metadata": {
        "id": "JHhFhACqvqyw"
      },
      "execution_count": null,
      "outputs": []
    },
    {
      "cell_type": "code",
      "source": [
        "batch_size=128\n",
        "train_dataset=train_dataset.batch(batch_size)\n",
        "val_dataset=val_dataset.batch(batch_size)\n",
        "test_dataset=test_dataset.batch(batch_size)"
      ],
      "metadata": {
        "id": "jPDPXypwwIsA"
      },
      "execution_count": null,
      "outputs": []
    },
    {
      "cell_type": "code",
      "source": [
        "model=Sequential()\n",
        "model.add(Embedding(max_words,300,input_length=110))\n",
        "model.add(Bidirectional(LSTM(100,return_sequences=True)))\n",
        "model.add(Bidirectional(LSTM(100,return_sequences=True)))\n",
        "model.add(TimeDistributed(Dense(num_tags,activation='softmax')))"
      ],
      "metadata": {
        "id": "dwuW6z4iwfo_"
      },
      "execution_count": null,
      "outputs": []
    },
    {
      "cell_type": "code",
      "source": [
        "model.compile(loss='sparse_categorical_crossentropy',\n",
        "              metrics='accuracy',\n",
        "              optimizer='adam')"
      ],
      "metadata": {
        "id": "saiQRJtCxBNj"
      },
      "execution_count": null,
      "outputs": []
    },
    {
      "cell_type": "code",
      "source": [
        "model.fit(train_dataset,validation_data=val_dataset,epochs=10)"
      ],
      "metadata": {
        "colab": {
          "base_uri": "https://localhost:8080/"
        },
        "id": "__BLpNmAyMwc",
        "outputId": "fb16128e-9b96-4c73-d83d-40a84ada0b3e"
      },
      "execution_count": null,
      "outputs": [
        {
          "output_type": "stream",
          "name": "stdout",
          "text": [
            "Epoch 1/10\n",
            "235/235 [==============================] - 47s 152ms/step - loss: 0.1892 - accuracy: 0.9656 - val_loss: 0.1138 - val_accuracy: 0.9701\n",
            "Epoch 2/10\n",
            "235/235 [==============================] - 9s 39ms/step - loss: 0.0976 - accuracy: 0.9724 - val_loss: 0.0831 - val_accuracy: 0.9751\n",
            "Epoch 3/10\n",
            "235/235 [==============================] - 9s 39ms/step - loss: 0.0709 - accuracy: 0.9776 - val_loss: 0.0730 - val_accuracy: 0.9775\n",
            "Epoch 4/10\n",
            "235/235 [==============================] - 9s 40ms/step - loss: 0.0578 - accuracy: 0.9808 - val_loss: 0.0695 - val_accuracy: 0.9788\n",
            "Epoch 5/10\n",
            "235/235 [==============================] - 9s 40ms/step - loss: 0.0484 - accuracy: 0.9835 - val_loss: 0.0707 - val_accuracy: 0.9790\n",
            "Epoch 6/10\n",
            "235/235 [==============================] - 9s 40ms/step - loss: 0.0427 - accuracy: 0.9854 - val_loss: 0.0718 - val_accuracy: 0.9801\n",
            "Epoch 7/10\n",
            "235/235 [==============================] - 9s 40ms/step - loss: 0.0383 - accuracy: 0.9868 - val_loss: 0.0744 - val_accuracy: 0.9797\n",
            "Epoch 8/10\n",
            "235/235 [==============================] - 9s 40ms/step - loss: 0.0343 - accuracy: 0.9882 - val_loss: 0.0744 - val_accuracy: 0.9798\n",
            "Epoch 9/10\n",
            "235/235 [==============================] - 10s 41ms/step - loss: 0.0302 - accuracy: 0.9897 - val_loss: 0.0812 - val_accuracy: 0.9796\n",
            "Epoch 10/10\n",
            "235/235 [==============================] - 10s 43ms/step - loss: 0.0269 - accuracy: 0.9908 - val_loss: 0.0809 - val_accuracy: 0.9793\n"
          ]
        },
        {
          "output_type": "execute_result",
          "data": {
            "text/plain": [
              "<keras.src.callbacks.History at 0x7d9b2d62e500>"
            ]
          },
          "metadata": {},
          "execution_count": 20
        }
      ]
    },
    {
      "cell_type": "code",
      "source": [
        "model.evaluate(test_dataset)"
      ],
      "metadata": {
        "colab": {
          "base_uri": "https://localhost:8080/"
        },
        "id": "4x8JAkUu0Rdt",
        "outputId": "ed3cf6ca-16e0-4687-c94a-cefc3ce40a18"
      },
      "execution_count": null,
      "outputs": [
        {
          "output_type": "stream",
          "name": "stdout",
          "text": [
            "86/86 [==============================] - 1s 14ms/step - loss: 0.0776 - accuracy: 0.9799\n"
          ]
        },
        {
          "output_type": "execute_result",
          "data": {
            "text/plain": [
              "[0.07755501568317413, 0.979855477809906]"
            ]
          },
          "metadata": {},
          "execution_count": 21
        }
      ]
    },
    {
      "cell_type": "code",
      "source": [
        "words2id=tokenizer.word_index\n",
        "id2words={}\n",
        "for key,value in words2id.items():\n",
        "  id2words[value]=key"
      ],
      "metadata": {
        "id": "QWihPD6l0XwH"
      },
      "execution_count": null,
      "outputs": []
    },
    {
      "cell_type": "code",
      "source": [
        "def prediction(model,test_sentence,id2tags,id2words):\n",
        "  test_sentence=test_sentence.reshape(1,110)\n",
        "  sentence=test_sentence[test_sentence>0]\n",
        "  word_list=[]\n",
        "  for id in list(sentence):\n",
        "    word_list.append(id2words[id])\n",
        "  original_sentence=' '.join(word_list)\n",
        "  len_original_sentence=len(original_sentence)\n",
        "\n",
        "  prediction=model.predict(test_sentence)\n",
        "  prediction=np.argmax(prediction[0],axis=1)\n",
        "  prediction=prediction[:len_original_sentence]\n",
        "\n",
        "  predicted_tags=[]\n",
        "  for tag_id in list(prediction):\n",
        "    predicted_tags.append(id2tags[tag_id])\n",
        "  return original_sentence,predicted_tags"
      ],
      "metadata": {
        "id": "22VE5RR00pvL"
      },
      "execution_count": null,
      "outputs": []
    },
    {
      "cell_type": "code",
      "source": [
        "original_sentence,predicted_tags=prediction(model,X_test[0],id2tags,id2words)"
      ],
      "metadata": {
        "colab": {
          "base_uri": "https://localhost:8080/"
        },
        "id": "123jpZ8I2rpy",
        "outputId": "4b3a0ea7-87e9-483c-e3aa-9ab9d3f7eaef"
      },
      "execution_count": null,
      "outputs": [
        {
          "output_type": "stream",
          "name": "stdout",
          "text": [
            "1/1 [==============================] - 0s 24ms/step\n"
          ]
        }
      ]
    },
    {
      "cell_type": "code",
      "source": [
        "print(original_sentence)"
      ],
      "metadata": {
        "colab": {
          "base_uri": "https://localhost:8080/"
        },
        "id": "8KTetuWC3lAL",
        "outputId": "1d100b95-dd78-41ce-e421-e10dc3cc26d2"
      },
      "execution_count": null,
      "outputs": [
        {
          "output_type": "stream",
          "name": "stdout",
          "text": [
            "kosovo 's delegation for possible talks on the future of the united nations run province has met for the first time and stressed it would seek independence for the largely ethnic albanian region\n"
          ]
        }
      ]
    },
    {
      "cell_type": "code",
      "source": [
        "print(predicted_tags)"
      ],
      "metadata": {
        "colab": {
          "base_uri": "https://localhost:8080/"
        },
        "id": "ULuko75K3mo8",
        "outputId": "bca1192d-c3ba-44ad-c0ec-11fe9bbb3985"
      },
      "execution_count": null,
      "outputs": [
        {
          "output_type": "stream",
          "name": "stdout",
          "text": [
            "['B-org', 'O', 'O', 'O', 'O', 'O', 'O', 'O', 'O', 'O', 'O', 'B-org', 'I-org', 'O', 'O', 'O', 'O', 'O', 'O', 'O', 'O', 'O', 'O', 'O', 'O', 'O', 'O', 'O', 'O', 'O', 'O', 'B-gpe', 'O', 'O', 'O', 'O', 'O', 'O', 'O', 'O', 'O', 'O', 'O', 'O', 'O', 'O', 'O', 'O', 'O', 'O', 'O', 'O', 'O', 'O', 'O', 'O', 'O', 'O', 'O', 'O', 'O', 'O', 'O', 'O', 'O', 'O', 'O', 'O', 'O', 'O', 'O', 'O', 'O', 'O', 'O', 'O', 'O', 'O', 'O', 'O', 'O', 'O', 'O', 'O', 'O', 'O', 'O', 'O', 'O', 'O', 'O', 'O', 'O', 'O', 'O', 'O', 'O', 'O', 'O', 'O', 'O', 'O', 'O', 'O', 'O', 'O', 'O', 'O', 'O', 'O']\n"
          ]
        }
      ]
    },
    {
      "cell_type": "code",
      "source": [],
      "metadata": {
        "id": "p9vGpNIL3pnP"
      },
      "execution_count": null,
      "outputs": []
    }
  ]
}