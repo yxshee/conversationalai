{
  "nbformat": 4,
  "nbformat_minor": 0,
  "metadata": {
    "colab": {
      "provenance": []
    },
    "kernelspec": {
      "name": "python3",
      "display_name": "Python 3"
    },
    "language_info": {
      "name": "python"
    }
  },
  "cells": [
    {
      "cell_type": "code",
      "execution_count": null,
      "metadata": {
        "id": "fmlhUfbQ1RAP"
      },
      "outputs": [],
      "source": [
        "import numpy as np\n",
        "import pandas as pd"
      ]
    },
    {
      "cell_type": "code",
      "source": [
        "from sklearn.datasets import make_classification\n",
        "X,Y=make_classification(n_samples=1000,n_features=5,random_state=42)"
      ],
      "metadata": {
        "id": "o_yq8a6s1ULn"
      },
      "execution_count": null,
      "outputs": []
    },
    {
      "cell_type": "code",
      "source": [
        "X_train=X[:750]\n",
        "Y_train=Y[:750]\n",
        "X_test=X[750:]\n",
        "Y_test=Y[750:]"
      ],
      "metadata": {
        "id": "Q4h_NLC41gyv"
      },
      "execution_count": null,
      "outputs": []
    },
    {
      "cell_type": "code",
      "source": [
        "X_train=X_train.T\n",
        "X_test=X_test.T\n"
      ],
      "metadata": {
        "colab": {
          "base_uri": "https://localhost:8080/"
        },
        "id": "cXJtEmiB2GKU",
        "outputId": "e79c55bc-9e7c-4275-8b11-a7cb0c10c32d"
      },
      "execution_count": null,
      "outputs": [
        {
          "output_type": "execute_result",
          "data": {
            "text/plain": [
              "(5, 750)"
            ]
          },
          "metadata": {},
          "execution_count": 7
        }
      ]
    },
    {
      "cell_type": "code",
      "source": [
        "Y_train=np.array(Y_train).reshape(1,-1)\n",
        "Y_test=np.array(Y_test).reshape(1,-1)\n",
        "Y_train.shape"
      ],
      "metadata": {
        "colab": {
          "base_uri": "https://localhost:8080/"
        },
        "id": "RVd_ZVRf2He4",
        "outputId": "833639b4-357b-4870-f4eb-34442bc2a4d0"
      },
      "execution_count": null,
      "outputs": [
        {
          "output_type": "execute_result",
          "data": {
            "text/plain": [
              "(1, 750)"
            ]
          },
          "metadata": {},
          "execution_count": 9
        }
      ]
    },
    {
      "cell_type": "code",
      "source": [
        "nn_arch=[\n",
        "    {'layer_units':5,'activation':'none'}, #input layer\n",
        "    {'layer_units':5,'activation':'relu'},\n",
        "    {'layer_units':4,'activation':'relu'},\n",
        "    {'layer_units':3,'activation':'relu'},\n",
        "    {'layer_units':1,'activation':'sigmoid'}\n",
        "]"
      ],
      "metadata": {
        "id": "sf7JuOvp2SqK"
      },
      "execution_count": null,
      "outputs": []
    },
    {
      "cell_type": "code",
      "source": [
        "def initialize_parameters(nn_arch,seed_value):\n",
        "  np.random.seed(seed_value)\n",
        "  parameters={}\n",
        "  number_of_layers=len(nn_arch)\n",
        "  for l in range(1,number_of_layers):\n",
        "    parameters['W'+str(l)]=np.random.randn(\n",
        "        nn_arch[l]['layer_units'],\n",
        "        nn_arch[l-1]['layer_units']\n",
        "    )*0.01\n",
        "    parameters['b'+str(l)]=np.zeros((nn_arch[l]['layer_units'],1))\n",
        "  return parameters"
      ],
      "metadata": {
        "id": "ro6e7hnN2-Vw"
      },
      "execution_count": null,
      "outputs": []
    },
    {
      "cell_type": "code",
      "source": [
        "parameters=initialize_parameters(nn_arch,3)"
      ],
      "metadata": {
        "id": "mkocF5FE4szv"
      },
      "execution_count": null,
      "outputs": []
    },
    {
      "cell_type": "code",
      "source": [
        "def sigmoid(z):\n",
        "  return 1/(1+np.exp(-z))\n",
        "def relu(z):\n",
        "  return np.maximum(0,z)"
      ],
      "metadata": {
        "id": "iFleVUwM436g"
      },
      "execution_count": null,
      "outputs": []
    },
    {
      "cell_type": "code",
      "source": [
        "def forward_propagation(parameters,X,nn_arch):\n",
        "  forward_cache={}\n",
        "  A_prev=X\n",
        "  number_of_layers=len(nn_arch)\n",
        "  for l in range(1,number_of_layers):\n",
        "    activation=nn_arch[l]['activation']\n",
        "    W=parameters['W'+str(l)]\n",
        "    b=parameters['b'+str(l)]\n",
        "    if activation=='relu':\n",
        "      forward_cache['Z'+str(l)]=np.dot(W,A_prev)+b\n",
        "      forward_cache['A'+str(l)]=relu(forward_cache['Z'+str(l)])\n",
        "    elif activation=='sigmoid':\n",
        "      forward_cache['Z'+str(l)]=np.dot(W,A_prev)+b\n",
        "      forward_cache['A'+str(l)]=sigmoid(forward_cache['Z'+str(l)])\n",
        "    A_prev=forward_cache['A'+str(l)]\n",
        "  AL=forward_cache['A'+str(l)]\n",
        "  forward_cache['A0']=X\n",
        "  return AL,forward_cache\n",
        "\n"
      ],
      "metadata": {
        "id": "sjwkN7iY5Zwq"
      },
      "execution_count": null,
      "outputs": []
    },
    {
      "cell_type": "code",
      "source": [
        "AL,forward_cache=forward_propagation(parameters,X_train,nn_arch)"
      ],
      "metadata": {
        "id": "n53pZ1Eo9tmu"
      },
      "execution_count": null,
      "outputs": []
    },
    {
      "cell_type": "code",
      "source": [
        "def compute_cost(AL,Y):\n",
        "  n=Y.shape[1]\n",
        "  cost=(-1/n)*np.sum((Y*np.log(AL))+((1-Y)*np.log(1-AL)))\n",
        "  cost=np.squeeze(cost)\n",
        "  return cost"
      ],
      "metadata": {
        "id": "VKwsJsS5EKX1"
      },
      "execution_count": null,
      "outputs": []
    },
    {
      "cell_type": "code",
      "source": [
        "compute_cost(AL,Y_train)"
      ],
      "metadata": {
        "colab": {
          "base_uri": "https://localhost:8080/"
        },
        "id": "TmiVHZ13FScn",
        "outputId": "9cc5ba34-ffa7-4666-c0bc-50aeb4a5d5c9"
      },
      "execution_count": null,
      "outputs": [
        {
          "output_type": "execute_result",
          "data": {
            "text/plain": [
              "0.6931471977798648"
            ]
          },
          "metadata": {},
          "execution_count": 35
        }
      ]
    },
    {
      "cell_type": "code",
      "source": [
        "def sigmoid_backward(dA_prev,Z):\n",
        "  S=sigmoid(Z)\n",
        "  dS=S*(1-S)\n",
        "  return dA_prev*dS"
      ],
      "metadata": {
        "id": "kF_bQIbwFbcx"
      },
      "execution_count": null,
      "outputs": []
    },
    {
      "cell_type": "code",
      "source": [
        "def relu_backward(dA_prev,Z):\n",
        "  dZ=np.array(dA_prev,copy=True)\n",
        "  dZ[dZ<=0]=0\n",
        "  return dZ"
      ],
      "metadata": {
        "id": "3mxg9e9-GuI_"
      },
      "execution_count": null,
      "outputs": []
    },
    {
      "cell_type": "code",
      "source": [
        "def back_propagation(Y,AL,forward_cache,nn_arch,parameters):\n",
        "  grads={}\n",
        "  n=Y.shape[1]\n",
        "  number_of_layers=len(nn_arch)\n",
        "  dAL=(AL-Y)/(AL*(1-AL))\n",
        "  dA_prev=dAL\n",
        "  for l in reversed(range(1,number_of_layers)):\n",
        "    activation=nn_arch[l]['activation']\n",
        "    W_curr=parameters['W'+str(l)]\n",
        "    Z_curr=forward_cache['Z'+str(l)]\n",
        "    A_prev=forward_cache['A'+str(l-1)]\n",
        "    if activation=='sigmoid':\n",
        "      dZ=sigmoid_backward(dA_prev,Z_curr)\n",
        "      grads['dW'+str(l)]=(1/n)*np.dot(dZ,A_prev.T)\n",
        "      grads['db'+str(l)]=(1/n)*np.sum(dZ,axis=1,keepdims=True)\n",
        "      dA_prev=np.dot(W_curr.T,dZ)\n",
        "    elif activation=='relu':\n",
        "      dZ=relu_backward(dA_prev,Z_curr)\n",
        "      grads['dW'+str(l)]=(1/n)*np.dot(dZ,A_prev.T)\n",
        "      grads['db'+str(l)]=(1/n)*np.sum(dZ,axis=1,keepdims=True)\n",
        "      dA_prev=np.dot(W_curr.T,dZ)\n",
        "  return grads\n",
        "\n"
      ],
      "metadata": {
        "id": "Vfmflr2wI3Yi"
      },
      "execution_count": null,
      "outputs": []
    },
    {
      "cell_type": "code",
      "source": [
        "grads=back_propagation(Y_train,AL,forward_cache,nn_arch,parameters)"
      ],
      "metadata": {
        "id": "5bgZbB7jLkrP"
      },
      "execution_count": null,
      "outputs": []
    },
    {
      "cell_type": "code",
      "source": [
        "def update_parameters(parameters,grads,nn_arch,lr):\n",
        "  number_of_layers=len(nn_arch)\n",
        "  for l in range(1,number_of_layers):\n",
        "    parameters['W'+str(l)]=parameters['W'+str(l)]-lr*grads['dW'+str(l)]\n",
        "    parameters['b'+str(l)]=parameters['b'+str(l)]-lr*grads['db'+str(l)]\n",
        "  return parameters"
      ],
      "metadata": {
        "id": "u5j-KY2OMIi6"
      },
      "execution_count": null,
      "outputs": []
    },
    {
      "cell_type": "code",
      "source": [
        "update_parameters(parameters,grads,nn_arch,0.1)"
      ],
      "metadata": {
        "colab": {
          "base_uri": "https://localhost:8080/"
        },
        "id": "5Pec7-NBNDci",
        "outputId": "163e7099-d333-433c-8a82-748bf7f34511"
      },
      "execution_count": null,
      "outputs": [
        {
          "output_type": "execute_result",
          "data": {
            "text/plain": [
              "{'W1': array([[ 0.01788619,  0.00436514,  0.00096498, -0.01863488, -0.00277387],\n",
              "        [-0.00354812, -0.0008272 , -0.00626998, -0.00043791, -0.00477212],\n",
              "        [-0.01313865,  0.00884622,  0.00881318,  0.01709573,  0.00050034],\n",
              "        [-0.00404677, -0.0054536 , -0.01546477,  0.00982367, -0.01101068],\n",
              "        [-0.01185047, -0.0020565 ,  0.01486148,  0.00236716, -0.01023785]]),\n",
              " 'b1': array([[-9.45966491e-08],\n",
              "        [-5.38607201e-07],\n",
              "        [ 0.00000000e+00],\n",
              "        [ 0.00000000e+00],\n",
              "        [ 0.00000000e+00]]),\n",
              " 'W2': array([[-0.00713026,  0.00625242, -0.00160518, -0.00768845, -0.00230036],\n",
              "        [ 0.00744989,  0.01976104, -0.01244132, -0.00626434, -0.00803777],\n",
              "        [-0.02419083, -0.00923792, -0.01023876,  0.01123978, -0.00131914],\n",
              "        [-0.01623285,  0.00646675, -0.00356271, -0.01743141, -0.0059665 ]]),\n",
              " 'b2': array([[-1.14332596e-05],\n",
              "        [-2.36384423e-05],\n",
              "        [ 0.00000000e+00],\n",
              "        [ 0.00000000e+00]]),\n",
              " 'W3': array([[-0.00588594, -0.00873932,  0.00029712, -0.02248258],\n",
              "        [-0.00267762,  0.01013167,  0.00852797,  0.01108187],\n",
              "        [ 0.01119391,  0.01487492, -0.01118303,  0.00845833]]),\n",
              " 'b3': array([[-0.00240055],\n",
              "        [-0.00077772],\n",
              "        [-0.00246966]]),\n",
              " 'W4': array([[-0.0186089 , -0.00602865, -0.01914442]]),\n",
              " 'b4': array([[0.0064]])}"
            ]
          },
          "metadata": {},
          "execution_count": 66
        }
      ]
    },
    {
      "cell_type": "code",
      "source": [
        "def training(X,Y,nn_arch,iterations,lr):\n",
        "  costs=[]\n",
        "  parameters=initialize_parameters(nn_arch,3)\n",
        "  for i in range(iterations):\n",
        "    AL,forward_cache=forward_propagation(parameters,X,nn_arch)\n",
        "    cost=compute_cost(AL,Y)\n",
        "    if (i%100==0):\n",
        "      print('iterations:'+str(i)+','+'cost:'+str(cost))\n",
        "      costs.append(cost)\n",
        "    grads=back_propagation(Y,AL,forward_cache,nn_arch,parameters)\n",
        "    parameters=update_parameters(parameters,grads,nn_arch,lr)\n",
        "  return parameters,costs"
      ],
      "metadata": {
        "id": "9lkQybNKNTCp"
      },
      "execution_count": null,
      "outputs": []
    },
    {
      "cell_type": "code",
      "source": [
        "parameters,costs=training(X_train,Y_train,nn_arch,10000,0.001)"
      ],
      "metadata": {
        "colab": {
          "base_uri": "https://localhost:8080/"
        },
        "id": "fGyqxgRAP81a",
        "outputId": "a2daaf51-5089-4b05-82be-d3dd17aacec6"
      },
      "execution_count": null,
      "outputs": [
        {
          "output_type": "stream",
          "name": "stdout",
          "text": [
            "iterations:0,cost:0.6931471977798648\n",
            "iterations:100,cost:0.6931222069806102\n",
            "iterations:200,cost:0.693098451524942\n",
            "iterations:300,cost:0.6930758547749327\n",
            "iterations:400,cost:0.6930543602099746\n",
            "iterations:500,cost:0.693033914065595\n",
            "iterations:600,cost:0.6930144651992286\n",
            "iterations:700,cost:0.6929959649625036\n",
            "iterations:800,cost:0.6929783670797292\n",
            "iterations:900,cost:0.692961627532286\n",
            "iterations:1000,cost:0.6929457044486338\n",
            "iterations:1100,cost:0.6929305579996644\n",
            "iterations:1200,cost:0.6929161502991459\n",
            "iterations:1300,cost:0.692902445309006\n",
            "iterations:1400,cost:0.6928894087492264\n",
            "iterations:1500,cost:0.6928770080121192\n",
            "iterations:1600,cost:0.6928652120807784\n",
            "iterations:1700,cost:0.692853991451502\n",
            "iterations:1800,cost:0.692843318059988\n",
            "iterations:1900,cost:0.6928331652111319\n",
            "iterations:2000,cost:0.6928235075122384\n",
            "iterations:2100,cost:0.6928143208094898\n",
            "iterations:2200,cost:0.6928055821275109\n",
            "iterations:2300,cost:0.6927972696118777\n",
            "iterations:2400,cost:0.6927893624744316\n",
            "iterations:2500,cost:0.6927818409412562\n",
            "iterations:2600,cost:0.692774686203192\n",
            "iterations:2700,cost:0.6927678803687676\n",
            "iterations:2800,cost:0.6927614064194184\n",
            "iterations:2900,cost:0.6927552481668982\n",
            "iterations:3000,cost:0.6927493902127629\n",
            "iterations:3100,cost:0.6927438179098308\n",
            "iterations:3200,cost:0.6927385173255259\n",
            "iterations:3300,cost:0.692733475207007\n",
            "iterations:3400,cost:0.692728678947998\n",
            "iterations:3500,cost:0.6927241165572386\n",
            "iterations:3600,cost:0.6927197766284736\n",
            "iterations:3700,cost:0.6927156483119049\n",
            "iterations:3800,cost:0.6927117212870393\n",
            "iterations:3900,cost:0.6927079857368594\n",
            "iterations:4000,cost:0.6927044323232555\n",
            "iterations:4100,cost:0.6927010521636575\n",
            "iterations:4200,cost:0.6926978368088044\n",
            "iterations:4300,cost:0.6926947782216033\n",
            "iterations:4400,cost:0.692691868757015\n",
            "iterations:4500,cost:0.6926891011429255\n",
            "iterations:4600,cost:0.6926864684619477\n",
            "iterations:4700,cost:0.6926839641341151\n",
            "iterations:4800,cost:0.692681581900416\n",
            "iterations:4900,cost:0.6926793158071342\n",
            "iterations:5000,cost:0.6926771601909528\n",
            "iterations:5100,cost:0.6926751096647862\n",
            "iterations:5200,cost:0.6926731591043014\n",
            "iterations:5300,cost:0.6926713036350984\n",
            "iterations:5400,cost:0.6926695386205177\n",
            "iterations:5500,cost:0.69266785965004\n",
            "iterations:5600,cost:0.6926662625282539\n",
            "iterations:5700,cost:0.6926647432643618\n",
            "iterations:5800,cost:0.6926632980621965\n",
            "iterations:5900,cost:0.6926619233107284\n",
            "iterations:6000,cost:0.6926606155750316\n",
            "iterations:6100,cost:0.6926593715876946\n",
            "iterations:6200,cost:0.6926581882406471\n",
            "iterations:6300,cost:0.6926570625773879\n",
            "iterations:6400,cost:0.6926559917855923\n",
            "iterations:6500,cost:0.6926549731900773\n",
            "iterations:6600,cost:0.692654004246113\n",
            "iterations:6700,cost:0.6926530825330597\n",
            "iterations:6800,cost:0.6926522057483143\n",
            "iterations:6900,cost:0.6926513717015532\n",
            "iterations:7000,cost:0.6926505783092568\n",
            "iterations:7100,cost:0.6926498235894988\n",
            "iterations:7200,cost:0.692649105656991\n",
            "iterations:7300,cost:0.6926484227183725\n",
            "iterations:7400,cost:0.6926477730677225\n",
            "iterations:7500,cost:0.6926471550822988\n",
            "iterations:7600,cost:0.6926465672184798\n",
            "iterations:7700,cost:0.6926460080079058\n",
            "iterations:7800,cost:0.6926454760538093\n",
            "iterations:7900,cost:0.6926449700275225\n",
            "iterations:8000,cost:0.6926444886651574\n",
            "iterations:8100,cost:0.692644030764446\n",
            "iterations:8200,cost:0.6926435951817356\n",
            "iterations:8300,cost:0.6926431808291302\n",
            "iterations:8400,cost:0.6926427866717723\n",
            "iterations:8500,cost:0.6926424117252561\n",
            "iterations:8600,cost:0.6926420550531664\n",
            "iterations:8700,cost:0.6926417157647402\n",
            "iterations:8800,cost:0.6926413930126394\n",
            "iterations:8900,cost:0.692641085990835\n",
            "iterations:9000,cost:0.6926407939325897\n",
            "iterations:9100,cost:0.6926405161085454\n",
            "iterations:9200,cost:0.6926402518248991\n",
            "iterations:9300,cost:0.6926400004216696\n",
            "iterations:9400,cost:0.6926397612710476\n",
            "iterations:9500,cost:0.6926395337758292\n",
            "iterations:9600,cost:0.6926393173679214\n",
            "iterations:9700,cost:0.6926391115069234\n",
            "iterations:9800,cost:0.6926389156787782\n",
            "iterations:9900,cost:0.692638729394486\n"
          ]
        }
      ]
    },
    {
      "cell_type": "code",
      "source": [
        "import matplotlib.pyplot as plt\n",
        "plt.plot(costs)"
      ],
      "metadata": {
        "colab": {
          "base_uri": "https://localhost:8080/",
          "height": 448
        },
        "id": "zkZRXYsnQBAQ",
        "outputId": "18c932cb-a20a-4bd5-9f1c-2177157c0b2e"
      },
      "execution_count": null,
      "outputs": [
        {
          "output_type": "execute_result",
          "data": {
            "text/plain": [
              "[<matplotlib.lines.Line2D at 0x7ad50cfc2dd0>]"
            ]
          },
          "metadata": {},
          "execution_count": 106
        },
        {
          "output_type": "display_data",
          "data": {
            "text/plain": [
              "<Figure size 640x480 with 1 Axes>"
            ],
            "image/png": "[encoded data removed]"
          },
          "metadata": {}
        }
      ]
    },
    {
      "cell_type": "code",
      "source": [],
      "metadata": {
        "id": "MibuJuPFX_u8"
      },
      "execution_count": null,
      "outputs": []
    }
  ]
}